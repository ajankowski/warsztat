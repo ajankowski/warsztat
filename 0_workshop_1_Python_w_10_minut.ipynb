{
 "cells": [
  {
   "cell_type": "markdown",
   "metadata": {},
   "source": [
    "<img src=\"py-logo.png\" align=\"left\" width='500'>"
   ]
  },
  {
   "cell_type": "markdown",
   "metadata": {
    "slideshow": {
     "slide_type": "subslide"
    }
   },
   "source": [
    "# Python to jeden z najpopularniejszych i najłatwiejszych do nauczenia się języków programowania.  \n",
    "Kod w języku Python jest krótki i czytelny, nie pozostawia wątpliwości co do sposobu działania.  \n",
    "Dodatkowy bonus - jest to język nauki i sztucznej inteligencji  :-)"
   ]
  },
  {
   "cell_type": "markdown",
   "metadata": {
    "slideshow": {
     "slide_type": "slide"
    }
   },
   "source": [
    "# Syntax (gramatyka Pythona)\n",
    "- Stosowane są wcięcia do wydzielania bloków kodu (stosuje się 4 spacje, nie jest to konieczne, ale musimy być konsekwentni, tzn. jeśli pierwsze wcięcie w funkcji miało trzy spacje, to kolejne wcięcia także muszą mieć trzy spacje, linia bez wcięcia znajdować się będzie poza blokiem).\n",
    "- Wyrażenia które wymagają wcięć zakończone są dwukropkiem **:**\n",
    "- Ważna jest wielkość liter.\n",
    "- Komentarze w kodzie zaczynamy od znaku #"
   ]
  },
  {
   "cell_type": "markdown",
   "metadata": {
    "slideshow": {
     "slide_type": "slide"
    }
   },
   "source": [
    "## Zmienne\n",
    "Zmienna = miejsce, gdzie komputer przechowuje dane  \n",
    "Zmienne przypisujemy do nazw znakiem rowności **=** , a testujemy czy dane są równe znakiem **==**"
   ]
  },
  {
   "cell_type": "code",
   "execution_count": 2,
   "metadata": {
    "slideshow": {
     "slide_type": "subslide"
    }
   },
   "outputs": [],
   "source": [
    "kot = 3\n",
    "pies = 7\n"
   ]
  },
  {
   "cell_type": "code",
   "execution_count": 3,
   "metadata": {
    "scrolled": true
   },
   "outputs": [],
   "source": [
    "# kot + pies\n"
   ]
  },
  {
   "cell_type": "code",
   "execution_count": 5,
   "metadata": {},
   "outputs": [
    {
     "data": {
      "text/plain": [
       "True"
      ]
     },
     "execution_count": 5,
     "metadata": {},
     "output_type": "execute_result"
    }
   ],
   "source": [
    "# kot == 3\n",
    "# kot == pies"
   ]
  },
  {
   "cell_type": "code",
   "execution_count": 2,
   "metadata": {},
   "outputs": [],
   "source": [
    "tomek = 4\n",
    "zdzisio = 0.4\n"
   ]
  },
  {
   "cell_type": "code",
   "execution_count": 11,
   "metadata": {},
   "outputs": [
    {
     "data": {
      "text/plain": [
       "4.4"
      ]
     },
     "execution_count": 11,
     "metadata": {},
     "output_type": "execute_result"
    }
   ],
   "source": [
    "m = zdzisio + tomek\n",
    "m"
   ]
  },
  {
   "cell_type": "code",
   "execution_count": 8,
   "metadata": {
    "slideshow": {
     "slide_type": "slide"
    }
   },
   "outputs": [],
   "source": [
    "#wszystko od '#' do końca wiersza to komentarz (Python go pomija)\n",
    "napis_1 = 'hallo'\n",
    "napis_2 = \"world!\"\n",
    "\n",
    "napis_3 = napis_1 + napis_2 # komentarz może zacząć się nie-na-początku wiersza"
   ]
  },
  {
   "cell_type": "code",
   "execution_count": 9,
   "metadata": {
    "scrolled": true,
    "slideshow": {
     "slide_type": "slide"
    }
   },
   "outputs": [
    {
     "name": "stdout",
     "output_type": "stream",
     "text": [
      "halloworld!\n"
     ]
    }
   ],
   "source": [
    "print(napis_3)"
   ]
  },
  {
   "cell_type": "markdown",
   "metadata": {},
   "source": [
    "### Ćwiczenia\n",
    "\n",
    "Napisz listę zakupow z cenami produktów, a nastepnie policz i wyswietl całkowity koszt.  \n",
    "burak 2  \n",
    "kaczka 4.5  \n",
    "total 6.5"
   ]
  },
  {
   "cell_type": "markdown",
   "metadata": {
    "slideshow": {
     "slide_type": "slide"
    }
   },
   "source": [
    "## Typy danych\n",
    "\n",
    "W pythonie mamy dostępne kilka typów danych, podstawowe z nich to:   \n",
    "- *int* - (integer) czyli liczby całkowite:  \n",
    "-100, -99, -98,..., -2, -1, 0, 1, 2, ..., 98, 99, 100..  \n",
    "- *float* - floating point to liczby rzeczywiste (zmiennoprzecinkowe):  \n",
    "0.2, 3.14, -0.8897  \n",
    "- *str* - tekst (string), tekstem jest dowolne wyrażenie w cudzysłowie pojedynczym lub podwójnym:  \n",
    "'python' lub \"python\""
   ]
  },
  {
   "cell_type": "code",
   "execution_count": 2,
   "metadata": {
    "slideshow": {
     "slide_type": "subslide"
    }
   },
   "outputs": [],
   "source": [
    "liczba_calkowita = 6\n",
    "liczba_rzeczywista = 0.56"
   ]
  },
  {
   "cell_type": "code",
   "execution_count": 3,
   "metadata": {},
   "outputs": [
    {
     "data": {
      "text/plain": [
       "int"
      ]
     },
     "execution_count": 3,
     "metadata": {},
     "output_type": "execute_result"
    }
   ],
   "source": [
    "type(liczba_calkowita)"
   ]
  },
  {
   "cell_type": "code",
   "execution_count": 44,
   "metadata": {},
   "outputs": [
    {
     "data": {
      "text/plain": [
       "float"
      ]
     },
     "execution_count": 44,
     "metadata": {},
     "output_type": "execute_result"
    }
   ],
   "source": [
    "type(liczba_rzeczywista)"
   ]
  },
  {
   "cell_type": "code",
   "execution_count": 4,
   "metadata": {},
   "outputs": [
    {
     "data": {
      "text/plain": [
       "'kublekublekublekublekublekublekublekuble'"
      ]
     },
     "execution_count": 4,
     "metadata": {},
     "output_type": "execute_result"
    }
   ],
   "source": [
    "napis = 'kuble'\n",
    "napis * 8"
   ]
  },
  {
   "cell_type": "code",
   "execution_count": 5,
   "metadata": {},
   "outputs": [
    {
     "data": {
      "text/plain": [
       "str"
      ]
     },
     "execution_count": 5,
     "metadata": {},
     "output_type": "execute_result"
    }
   ],
   "source": [
    "type(napis)"
   ]
  },
  {
   "cell_type": "code",
   "execution_count": 23,
   "metadata": {},
   "outputs": [
    {
     "data": {
      "text/plain": [
       "'ubl'"
      ]
     },
     "execution_count": 23,
     "metadata": {},
     "output_type": "execute_result"
    }
   ],
   "source": [
    "napis[1:4]"
   ]
  },
  {
   "cell_type": "code",
   "execution_count": 26,
   "metadata": {
    "scrolled": true
   },
   "outputs": [
    {
     "data": {
      "text/plain": [
       "'KUBLE'"
      ]
     },
     "execution_count": 26,
     "metadata": {},
     "output_type": "execute_result"
    }
   ],
   "source": [
    "napis.upper()"
   ]
  },
  {
   "cell_type": "code",
   "execution_count": 36,
   "metadata": {},
   "outputs": [
    {
     "data": {
      "text/plain": [
       "11"
      ]
     },
     "execution_count": 36,
     "metadata": {},
     "output_type": "execute_result"
    }
   ],
   "source": [
    "n = 'ala ma kota'\n",
    "len(n) # liczba znaków w tekście"
   ]
  },
  {
   "cell_type": "code",
   "execution_count": 30,
   "metadata": {},
   "outputs": [
    {
     "data": {
      "text/plain": [
       "['ala', 'ma', 'kota']"
      ]
     },
     "execution_count": 30,
     "metadata": {},
     "output_type": "execute_result"
    }
   ],
   "source": [
    "n.split()"
   ]
  },
  {
   "cell_type": "code",
   "execution_count": 73,
   "metadata": {
    "scrolled": true
   },
   "outputs": [
    {
     "name": "stdout",
     "output_type": "stream",
     "text": [
      "jak masz na imie? ala\n",
      "hej ala\n"
     ]
    }
   ],
   "source": [
    "imie = input('jak masz na imie? ')\n",
    "print('hej '+ imie)"
   ]
  },
  {
   "cell_type": "markdown",
   "metadata": {},
   "source": [
    "### Ćwiczenia\n",
    "\n",
    "Poproś uzytkownika o wprowadzenie jakiejś cyfry i wydrukuj wynik mnożenia jej przez 3"
   ]
  },
  {
   "cell_type": "markdown",
   "metadata": {},
   "source": [
    "## Struktury danych w Pythonie\n",
    "- listy - grupują wartości dowolnego typu (tekst, liczby, inne listy, ....)\n",
    "    - tworzymy je uzywając kwadratowych nawiasow []\n",
    "- tuples (krotki) - działają tak jak listy, ale sa niezmienialne (immutable)\n",
    "    - tworzymy je uzywając nawiasów okrąglych () \n",
    "- slowniki - grupują wartości typu klucz-wartość\n",
    "    - tworzymy je używając nawiasów {}\n",
    "- sety\n",
    "    - tworzone przy uzyciu słowa kluczowego **set**\n",
    "    - używamy nawiasów **{}**\n",
    "\n",
    "Metody dostepne w przypadku struktur danych sa w wiekszosci wypadkow podobne.\n",
    "Na przydlad len(koty) pokaże nam dlugość zarówno listy, tupli jak i setu."
   ]
  },
  {
   "cell_type": "markdown",
   "metadata": {},
   "source": [
    "### listy i tuple"
   ]
  },
  {
   "cell_type": "code",
   "execution_count": 7,
   "metadata": {},
   "outputs": [],
   "source": [
    "lista = [] #pusta lista\n",
    "lista_2 = [3, [\"inna\", \"lista\"],\"a\", lista]"
   ]
  },
  {
   "cell_type": "code",
   "execution_count": 11,
   "metadata": {},
   "outputs": [
    {
     "data": {
      "text/plain": [
       "3"
      ]
     },
     "execution_count": 11,
     "metadata": {},
     "output_type": "execute_result"
    }
   ],
   "source": [
    "# możemy wybrać jeden lub więcej elementów z listy\n",
    "lista_2[0] # elementy listy numerujemy od '0'"
   ]
  },
  {
   "cell_type": "code",
   "execution_count": 17,
   "metadata": {},
   "outputs": [],
   "source": [
    "tupla = (3, 7, 9)"
   ]
  },
  {
   "cell_type": "code",
   "execution_count": 52,
   "metadata": {
    "scrolled": true
   },
   "outputs": [
    {
     "data": {
      "text/plain": [
       "[]"
      ]
     },
     "execution_count": 52,
     "metadata": {},
     "output_type": "execute_result"
    }
   ],
   "source": [
    "#roznice miedzyy listą i tuplą - tupli nie można zmienic\n",
    "lista"
   ]
  },
  {
   "cell_type": "code",
   "execution_count": 13,
   "metadata": {},
   "outputs": [
    {
     "data": {
      "text/plain": [
       "[15, 'slowo']"
      ]
     },
     "execution_count": 13,
     "metadata": {},
     "output_type": "execute_result"
    }
   ],
   "source": [
    "lista.append(15)\n",
    "lista.append('slowo')\n",
    "lista"
   ]
  },
  {
   "cell_type": "code",
   "execution_count": 14,
   "metadata": {},
   "outputs": [
    {
     "data": {
      "text/plain": [
       "15"
      ]
     },
     "execution_count": 14,
     "metadata": {},
     "output_type": "execute_result"
    }
   ],
   "source": [
    "lista[0]"
   ]
  },
  {
   "cell_type": "code",
   "execution_count": 15,
   "metadata": {},
   "outputs": [
    {
     "data": {
      "text/plain": [
       "34"
      ]
     },
     "execution_count": 15,
     "metadata": {},
     "output_type": "execute_result"
    }
   ],
   "source": [
    "lista[0] = 34\n",
    "lista[0]"
   ]
  },
  {
   "cell_type": "code",
   "execution_count": 18,
   "metadata": {
    "scrolled": false
   },
   "outputs": [
    {
     "ename": "AttributeError",
     "evalue": "'tuple' object has no attribute 'append'",
     "output_type": "error",
     "traceback": [
      "\u001b[1;31m---------------------------------------------------------------------------\u001b[0m",
      "\u001b[1;31mAttributeError\u001b[0m                            Traceback (most recent call last)",
      "\u001b[1;32m<ipython-input-18-c2e965c14a57>\u001b[0m in \u001b[0;36m<module>\u001b[1;34m()\u001b[0m\n\u001b[1;32m----> 1\u001b[1;33m \u001b[0mtupla\u001b[0m\u001b[1;33m.\u001b[0m\u001b[0mappend\u001b[0m\u001b[1;33m(\u001b[0m\u001b[1;36m10\u001b[0m\u001b[1;33m)\u001b[0m\u001b[1;33m\u001b[0m\u001b[0m\n\u001b[0m",
      "\u001b[1;31mAttributeError\u001b[0m: 'tuple' object has no attribute 'append'"
     ]
    }
   ],
   "source": [
    "tupla.append(10)"
   ]
  },
  {
   "cell_type": "code",
   "execution_count": 19,
   "metadata": {},
   "outputs": [
    {
     "name": "stdout",
     "output_type": "stream",
     "text": [
      "['zmienna_1', 2, 3.14]\n",
      "['zmienna_1', 2]\n",
      "3.14\n",
      "[2, 3.14]\n",
      "['zmienna_1', 3.14]\n",
      "3\n"
     ]
    }
   ],
   "source": [
    "\"\"\"Dostęp do elementów listy lub tupli mamy uzywając ich indeksow w nawiasach [],  \n",
    "lub tnąc liste na kawałki używająć indeksów w nawiasach [] i ':' \n",
    "\"\"\"\"\"\n",
    "lista_3  = [\"zmienna_1\", 2, 3.14]\n",
    "print(lista_3[:])\n",
    "print(lista_3[0:2])\n",
    "print(lista_3[-1])\n",
    "print(lista_3[1:])\n",
    "print(lista_3[::2])\n",
    "print(len(lista_3))  # dlugosc listy"
   ]
  },
  {
   "cell_type": "code",
   "execution_count": 21,
   "metadata": {
    "scrolled": true
   },
   "outputs": [
    {
     "name": "stdout",
     "output_type": "stream",
     "text": [
      "zmienna_1\n",
      "2\n",
      "3.14\n"
     ]
    }
   ],
   "source": [
    "# po liście można też iterować for -- dostajemy wtedy jej elementy\n",
    "for element in lista_3:\n",
    "    print(element)"
   ]
  },
  {
   "cell_type": "code",
   "execution_count": 8,
   "metadata": {},
   "outputs": [],
   "source": [
    "# lista list\n",
    "koszyk = [['mleko', 'ser'], ['chleb', 'bulki','rogaliki'], [3, 7, 6]]"
   ]
  },
  {
   "cell_type": "code",
   "execution_count": 12,
   "metadata": {
    "scrolled": true
   },
   "outputs": [
    {
     "data": {
      "text/plain": [
       "'chleb'"
      ]
     },
     "execution_count": 12,
     "metadata": {},
     "output_type": "execute_result"
    }
   ],
   "source": [
    "koszyk[1][0]"
   ]
  },
  {
   "cell_type": "markdown",
   "metadata": {},
   "source": [
    "### Ćwiczenia\n",
    "stwórz listę 5 elementową i wydrukuj jej 3 element"
   ]
  },
  {
   "cell_type": "markdown",
   "metadata": {},
   "source": [
    "## Słowniki"
   ]
  },
  {
   "cell_type": "code",
   "execution_count": 22,
   "metadata": {},
   "outputs": [
    {
     "data": {
      "text/plain": [
       "'zmienna'"
      ]
     },
     "execution_count": 22,
     "metadata": {},
     "output_type": "execute_result"
    }
   ],
   "source": [
    "slownik= {}  #pusty slownik\n",
    "slownik = dict()  #pusty slownik\n",
    "\n",
    "slownik = {\"klucz\": \"zmienna\", 2: 3, \"pi\": 3.14}\n",
    "slownik['klucz']"
   ]
  },
  {
   "cell_type": "code",
   "execution_count": 23,
   "metadata": {},
   "outputs": [
    {
     "data": {
      "text/plain": [
       "3.15"
      ]
     },
     "execution_count": 23,
     "metadata": {},
     "output_type": "execute_result"
    }
   ],
   "source": [
    "slownik[\"pi\"] = 3.15 #tak zmieniamy wartosc zmiennych w slowniku\n",
    "slownik['pi']"
   ]
  },
  {
   "cell_type": "markdown",
   "metadata": {},
   "source": [
    "## Instrukcje sterujące\n",
    "- if\n",
    "- for \n",
    "- while "
   ]
  },
  {
   "cell_type": "code",
   "execution_count": 24,
   "metadata": {
    "scrolled": true
   },
   "outputs": [
    {
     "name": "stdout",
     "output_type": "stream",
     "text": [
      "0\n",
      "1\n",
      "2\n",
      "3\n",
      "4\n"
     ]
    }
   ],
   "source": [
    "# możemy użyć funkcji range(n), żeby wygenerować ciąg kolejnych liczb\n",
    "for liczba in range(5):\n",
    "    print(liczba)"
   ]
  },
  {
   "cell_type": "code",
   "execution_count": 27,
   "metadata": {},
   "outputs": [
    {
     "name": "stdout",
     "output_type": "stream",
     "text": [
      "co to jest??\n",
      "co to jest??\n",
      "co to jest??\n",
      "3\n",
      "4\n",
      "co to jest??\n",
      "co to jest??\n",
      "7\n",
      "co to jest??\n",
      "9\n"
     ]
    }
   ],
   "source": [
    "lista_4 = [0, 1, 2, 3, 4, 5, 6, 7, 8, 9]\n",
    "\n",
    "for element in lista_4:             # pętla for powtarza wielokrotnie tę samą operację\n",
    "    if element in (3, 4, 7, 9):   #if sprawdza czy jakas zaleznosc jest prawdziwa\n",
    "        print(element)\n",
    "    else:\n",
    "        print('co to jest??')"
   ]
  },
  {
   "cell_type": "code",
   "execution_count": 33,
   "metadata": {
    "scrolled": true
   },
   "outputs": [
    {
     "name": "stdout",
     "output_type": "stream",
     "text": [
      "dawaj jeszcze\n",
      "dawaj jeszcze\n",
      "dawaj jeszcze\n",
      "dawaj jeszcze\n",
      "dawaj jeszcze\n",
      "dawaj jeszcze\n"
     ]
    }
   ],
   "source": [
    "i = 0\n",
    "while i < 6:\n",
    "    print('dawaj jeszcze')\n",
    "    i +=1"
   ]
  },
  {
   "cell_type": "code",
   "execution_count": 28,
   "metadata": {},
   "outputs": [
    {
     "name": "stdout",
     "output_type": "stream",
     "text": [
      "jestes glodny?\n",
      "ble\n",
      "lepiej sie poloz\n"
     ]
    }
   ],
   "source": [
    "jestem_glodny = input('jestes glodny?\\n')\n",
    "\n",
    "if jestem_glodny == 'tak':\n",
    "    print('pizza')\n",
    "elif jestem_glodny == 'nie':\n",
    "    print('to popij')\n",
    "else:\n",
    "    print('lepiej sie poloz')"
   ]
  },
  {
   "cell_type": "markdown",
   "metadata": {},
   "source": [
    "###  Ćwiczenia\n",
    "zapytaj użytkownika o coś i wydrukuj różne komunikaty w zależności od odpowiedzi"
   ]
  },
  {
   "cell_type": "markdown",
   "metadata": {},
   "source": [
    "## Funkcje\n",
    "- wieloktorne wykorzystanie tego samego kawałka kodu! \n",
    "- budowa złożonych programów, z prostszych do przeanalizowania oraz napisania elementów\n",
    "- czytelność"
   ]
  },
  {
   "cell_type": "code",
   "execution_count": 14,
   "metadata": {},
   "outputs": [
    {
     "data": {
      "text/plain": [
       "'KOT'"
      ]
     },
     "execution_count": 14,
     "metadata": {},
     "output_type": "execute_result"
    }
   ],
   "source": [
    "#definicja funkcji (tworzy funkcje, ale jej nie wywołuje)\n",
    "def wielkie(napis):\n",
    "    a = napis.upper()\n",
    "    return a\n",
    "\n",
    "#wywołanie funkcji\n",
    "wielkie('kot')"
   ]
  },
  {
   "cell_type": "code",
   "execution_count": 47,
   "metadata": {},
   "outputs": [
    {
     "name": "stdout",
     "output_type": "stream",
     "text": [
      "25\n"
     ]
    }
   ],
   "source": [
    "def kwadrat(x):\n",
    "    return x*x\n",
    "\n",
    "print(kwadrat(5))"
   ]
  },
  {
   "cell_type": "markdown",
   "metadata": {},
   "source": [
    "### Ćwiczenia\n",
    "stwórz funkcję która zwraca 3 znak z podanego słowa"
   ]
  },
  {
   "cell_type": "markdown",
   "metadata": {},
   "source": [
    "## Moduły\n",
    "\n",
    "Moduły (biblioteki) to programy pythona które zawierają kodu (funkcje, klasy itp), który możemy wykorzystać.\n",
    "Najpierw jednak musimy je zaimportować po prostu używająć slowa 'import'.  \n",
    "Aby wykorzystać jakąś funkcję zdefiniowaną w zaimportowanym module,   musimy\n",
    "przed nazwą funkcji dołączyć nazwę modułu. "
   ]
  },
  {
   "cell_type": "code",
   "execution_count": 16,
   "metadata": {},
   "outputs": [
    {
     "name": "stdout",
     "output_type": "stream",
     "text": [
      "41\n"
     ]
    }
   ],
   "source": [
    "import random #modul z funkcjami związanymi z losowością (liczby losowe, losowy wybór elementów z listy itp.)\n",
    "\n",
    "losowa_liczba = random.randint(1, 100)\n",
    "print(losowa_liczba)"
   ]
  },
  {
   "cell_type": "markdown",
   "metadata": {},
   "source": [
    "# BackUp"
   ]
  },
  {
   "cell_type": "markdown",
   "metadata": {},
   "source": [
    "## Praca z plikami\n",
    "\n",
    "Praca z plikami w Pythonie jest bardzo prosta.  \n",
    "**open(name, mode)** zwraca obiekt z plikiem:\n",
    "- name - ścieżka do pliku, np.:  \n",
    "    'plik.txt' (jesli plik jest w katalogu w ktorym pracujemy)  \n",
    "    'C:\\\\komp\\\\docs\\\\plik.txt'\n",
    "- mode:  \n",
    "    'r' (read): otwieramy tylko do odczytu   \n",
    "    'w' (write): otwieramy tylko do pisania  \n",
    "    'a' (append): otwieramy do dopisywania (następne linijki)  "
   ]
  },
  {
   "cell_type": "code",
   "execution_count": 50,
   "metadata": {
    "scrolled": true
   },
   "outputs": [
    {
     "name": "stdout",
     "output_type": "stream",
     "text": [
      "Ojciec majora Majora był trzeźwo myślącym, bogobojnym człowiekiem (...). \n",
      "Jego specjalnością była lucerna i żył z tego, że jej nie uprawiał. \n",
      "Rząd płacił mu dobrze za każdy korzec lucerny, którego nie zebrał. \n",
      "Im więcej lucerny nie uprawiał, tym więcej pieniędzy dostawał od rządu i za każdy nie zarobiony grosz kupował ziemię, aby zwiększyć ilość nie uprawianej lucerny. \n",
      "Ojciec majora Majora pracował bez wytchnienia nad nieuprawianiem lucerny. \n",
      "Długie zimowe wieczory spędzał w domu nie naprawiając uprzęży i codziennie skoro południe zrywał się z łóżka, aby dopilnować, czy nic nie zostało zrobione. \n",
      "Mądrze inwestując stał się wkrótce najpoważniejszym nieproducentem lucerny w okolicy. \n",
      "Sąsiedzi przychodzili do niego po radę w najróżniejszych sprawach, gdyż dorobił się sporej fortuny, co było dowodem mądrości.\n"
     ]
    }
   ],
   "source": [
    "with open('paragraf22.txt', 'r') as f:\n",
    "    read_data = f.read()\n",
    "    print(read_data)"
   ]
  },
  {
   "cell_type": "code",
   "execution_count": 52,
   "metadata": {
    "scrolled": true
   },
   "outputs": [
    {
     "name": "stdout",
     "output_type": "stream",
     "text": [
      "Ojciec majora Majora był trzeźwo myślącym, bogobojnym człowiekiem (...). \n",
      "\n"
     ]
    }
   ],
   "source": [
    "with open('paragraf22.txt', 'r') as f:\n",
    "    for linia in f:\n",
    "        print(linia)\n",
    "        break"
   ]
  },
  {
   "cell_type": "code",
   "execution_count": 9,
   "metadata": {
    "collapsed": true
   },
   "outputs": [],
   "source": [
    "plik = open('przykladowy_plik.txt','w') #otwieramy plik w trybie 'write'\n",
    "plik.write('dziala to nasze pisanie, czy nie?') #brak dodatkowego EOF\n",
    "plik.close() #zamykamy plik\n",
    "\n",
    "# plik = open('przykladowy_plik.txt','a') #otwieramy plik w trybie 'append'\n",
    "# plik.write('\\ndrugie zdanie') #brak dodatkowego EOF\n",
    "# plik.close() #zamykamy plik"
   ]
  },
  {
   "cell_type": "code",
   "execution_count": 10,
   "metadata": {},
   "outputs": [
    {
     "name": "stdout",
     "output_type": "stream",
     "text": [
      "dziala to nasze pisanie, czy nie?\n",
      "drugie zdanie\n"
     ]
    }
   ],
   "source": [
    "with open('przykladowy_plik.txt','r') as plik:\n",
    "    print(plik.read())"
   ]
  },
  {
   "cell_type": "markdown",
   "metadata": {},
   "source": [
    "## Plik z cyferkami z którym będziemy pracować później"
   ]
  },
  {
   "cell_type": "code",
   "execution_count": 7,
   "metadata": {},
   "outputs": [
    {
     "name": "stdout",
     "output_type": "stream",
     "text": [
      "7,0,0,0,0,0,0,0,0,0,0,0,0,0,0,0,0,0,0,0,0,0,0,0,0,0,0,0,0,0,0,0,0,0,0,0,0,0,0,0,0,0,0,0,0,0,0,0,0,0,0,0,0,0,0,0,0,0,0,0,0,0,0,0,0,0,0,0,0,0,0,0,0,0,0,0,0,0,0,0,0,0,0,0,0,0,0,0,0,0,0,0,0,0,0,0,0,0,0,0,0,0,0,0,0,0,0,0,0,0,0,0,0,0,0,0,0,0,0,0,0,0,0,0,0,0,0,0,0,0,0,0,0,0,0,0,0,0,0,0,0,0,0,0,0,0,0,0,0,0,0,0,0,0,0,0,0,0,0,0,0,0,0,0,0,0,0,0,0,0,0,0,0,0,0,0,0,0,0,0,0,0,0,0,0,0,0,0,0,0,0,0,0,0,0,0,0,0,0,0,0,0,0,84,185,159,151,60,36,0,0,0,0,0,0,0,0,0,0,0,0,0,0,0,0,0,0,0,0,0,0,222,254,254,254,254,241,198,198,198,198,198,198,198,198,170,52,0,0,0,0,0,0,0,0,0,0,0,0,67,114,72,114,163,227,254,225,254,254,254,250,229,254,254,140,0,0,0,0,0,0,0,0,0,0,0,0,0,0,0,0,0,17,66,14,67,67,67,59,21,236,254,106,0,0,0,0,0,0,0,0,0,0,0,0,0,0,0,0,0,0,0,0,0,0,0,0,83,253,209,18,0,0,0,0,0,0,0,0,0,0,0,0,0,0,0,0,0,0,0,0,0,0,0,22,233,255,83,0,0,0,0,0,0,0,0,0,0,0,0,0,0,0,0,0,0,0,0,0,0,0,0,129,254,238,44,0,0,0,0,0,0,0,0,0,0,0,0,0,0,0,0,0,0,0,0,0,0,0,59,249,254,62,0,0,0,0,0,0,0,0,0,0,0,0,0,0,0,0,0,0,0,0,0,0,0,0,133,254,187,5,0,0,0,0,0,0,0,0,0,0,0,0,0,0,0,0,0,0,0,0,0,0,0,9,205,248,58,0,0,0,0,0,0,0,0,0,0,0,0,0,0,0,0,0,0,0,0,0,0,0,0,126,254,182,0,0,0,0,0,0,0,0,0,0,0,0,0,0,0,0,0,0,0,0,0,0,0,0,75,251,240,57,0,0,0,0,0,0,0,0,0,0,0,0,0,0,0,0,0,0,0,0,0,0,0,19,221,254,166,0,0,0,0,0,0,0,0,0,0,0,0,0,0,0,0,0,0,0,0,0,0,0,3,203,254,219,35,0,0,0,0,0,0,0,0,0,0,0,0,0,0,0,0,0,0,0,0,0,0,0,38,254,254,77,0,0,0,0,0,0,0,0,0,0,0,0,0,0,0,0,0,0,0,0,0,0,0,31,224,254,115,1,0,0,0,0,0,0,0,0,0,0,0,0,0,0,0,0,0,0,0,0,0,0,0,133,254,254,52,0,0,0,0,0,0,0,0,0,0,0,0,0,0,0,0,0,0,0,0,0,0,0,61,242,254,254,52,0,0,0,0,0,0,0,0,0,0,0,0,0,0,0,0,0,0,0,0,0,0,0,121,254,254,219,40,0,0,0,0,0,0,0,0,0,0,0,0,0,0,0,0,0,0,0,0,0,0,0,121,254,207,18,0,0,0,0,0,0,0,0,0,0,0,0,0,0,0,0,0,0,0,0,0,0,0,0,0,0,0,0,0,0,0,0,0,0,0,0,0,0,0,0,0,0\n",
      "\n"
     ]
    }
   ],
   "source": [
    "training_data_file = open('C:/Users/ajankows/Desktop/python/obrazki_dane/mnist_test_10.csv', 'r')\n",
    "dane  = training_data_file.readlines()\n",
    "training_data_file.close()\n",
    "print(dane[0])"
   ]
  },
  {
   "cell_type": "code",
   "execution_count": 10,
   "metadata": {
    "collapsed": true
   },
   "outputs": [],
   "source": [
    "import numpy as np"
   ]
  },
  {
   "cell_type": "code",
   "execution_count": 46,
   "metadata": {},
   "outputs": [
    {
     "data": {
      "text/plain": [
       "<matplotlib.image.AxesImage at 0x1b750937e80>"
      ]
     },
     "execution_count": 46,
     "metadata": {},
     "output_type": "execute_result"
    },
    {
     "data": {
      "image/png": "[encoded data removed]",
      "text/plain": [
       "<matplotlib.figure.Figure at 0x1b74fafb048>"
      ]
     },
     "metadata": {},
     "output_type": "display_data"
    }
   ],
   "source": [
    "import matplotlib\n",
    "%matplotlib inline\n",
    "\n",
    "d = dane[0]\n",
    "c = d.split(',')\n",
    "c = [int(i) for i in c[1:]]\n",
    "arr = np.array(c)\n",
    "matplotlib.pyplot.imshow(arr.reshape(28,28), cmap='Greys', interpolation='None')\n"
   ]
  },
  {
   "cell_type": "markdown",
   "metadata": {},
   "source": [
    "## Klasy\n",
    "Python jest całkowicie zorientowany obiektowo: możemy zarówno korzystać z wbudowanychklas jak i tworzyć własne klasy\n",
    "\n",
    "Tworzenie klas w Pythonie jest proste. Po prostu definiujemy klasę i zaczynamy ją stosować.  \n",
    "Klasa w Pythonie rozpoczyna się słowem kluczowym **class**, po którym następuje nazwa klasy , która zwyczajowo pisana jest z dużej litery."
   ]
  },
  {
   "cell_type": "code",
   "execution_count": 87,
   "metadata": {
    "collapsed": true
   },
   "outputs": [],
   "source": [
    "class Pies():\n",
    "    def __init__(self, rasa):\n",
    "        self.najwiekszy_wrog = 'kot'\n",
    "        self.nogi = 4\n",
    "        self.rasa = rasa\n",
    "\n",
    "    def zaszczekaj(self):\n",
    "        print('hau, hau')\n",
    "        \n",
    "    def gon(self, nazwa):\n",
    "        print('gonie '+ nazwa)\n",
    "\n",
    "rudy = Pies('wilczur')"
   ]
  },
  {
   "cell_type": "code",
   "execution_count": 88,
   "metadata": {},
   "outputs": [
    {
     "data": {
      "text/plain": [
       "'wilczur'"
      ]
     },
     "execution_count": 88,
     "metadata": {},
     "output_type": "execute_result"
    }
   ],
   "source": [
    "rudy.rasa"
   ]
  },
  {
   "cell_type": "code",
   "execution_count": 89,
   "metadata": {},
   "outputs": [
    {
     "name": "stdout",
     "output_type": "stream",
     "text": [
      "hau, hau\n"
     ]
    }
   ],
   "source": [
    "rudy.zaszczekaj()"
   ]
  },
  {
   "cell_type": "code",
   "execution_count": 91,
   "metadata": {},
   "outputs": [
    {
     "name": "stdout",
     "output_type": "stream",
     "text": [
      "gonie kota\n"
     ]
    }
   ],
   "source": [
    "rudy.gon('kota')"
   ]
  }
 ],
 "metadata": {
  "kernelspec": {
   "display_name": "Python [default]",
   "language": "python",
   "name": "python3"
  },
  "language_info": {
   "codemirror_mode": {
    "name": "ipython",
    "version": 3
   },
   "file_extension": ".py",
   "mimetype": "text/x-python",
   "name": "python",
   "nbconvert_exporter": "python",
   "pygments_lexer": "ipython3",
   "version": "3.6.5"
  },
  "toc": {
   "base_numbering": 1,
   "nav_menu": {},
   "number_sections": true,
   "sideBar": true,
   "skip_h1_title": false,
   "title_cell": "Table of Contents",
   "title_sidebar": "Contents",
   "toc_cell": false,
   "toc_position": {
    "height": "calc(100% - 180px)",
    "left": "10px",
    "top": "150px",
    "width": "209px"
   },
   "toc_section_display": true,
   "toc_window_display": true
  }
 },
 "nbformat": 4,
 "nbformat_minor": 2
}
