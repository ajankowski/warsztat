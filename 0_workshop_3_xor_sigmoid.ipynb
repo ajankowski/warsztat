{
 "cells": [
  {
   "cell_type": "markdown",
   "metadata": {},
   "source": [
    "# Prawdziwa, ucząca się sieć neuronowa"
   ]
  },
  {
   "cell_type": "markdown",
   "metadata": {},
   "source": [
    "<img src=\"files/network_241.png\" />"
   ]
  },
  {
   "cell_type": "code",
   "execution_count": 1,
   "metadata": {},
   "outputs": [],
   "source": [
    "# Importujemy bibliotekę numpy (operacje na macierzach)\n",
    "import numpy as np"
   ]
  },
  {
   "cell_type": "markdown",
   "metadata": {},
   "source": [
    "# Programowujemy naszą sieć z wykorzystaniem numpy"
   ]
  },
  {
   "cell_type": "markdown",
   "metadata": {},
   "source": [
    "## Input data"
   ]
  },
  {
   "cell_type": "code",
   "execution_count": 1,
   "metadata": {},
   "outputs": [
    {
     "ename": "NameError",
     "evalue": "name 'np' is not defined",
     "output_type": "error",
     "traceback": [
      "\u001b[1;31m---------------------------------------------------------------------------\u001b[0m",
      "\u001b[1;31mNameError\u001b[0m                                 Traceback (most recent call last)",
      "\u001b[1;32m<ipython-input-1-93668fdf00a2>\u001b[0m in \u001b[0;36m<module>\u001b[1;34m()\u001b[0m\n\u001b[0;32m      1\u001b[0m \u001b[1;31m#nasze dane\u001b[0m\u001b[1;33m\u001b[0m\u001b[1;33m\u001b[0m\u001b[0m\n\u001b[1;32m----> 2\u001b[1;33m dane = np.array([[0,0],\n\u001b[0m\u001b[0;32m      3\u001b[0m                  \u001b[1;33m[\u001b[0m\u001b[1;36m0\u001b[0m\u001b[1;33m,\u001b[0m\u001b[1;36m1\u001b[0m\u001b[1;33m]\u001b[0m\u001b[1;33m,\u001b[0m\u001b[1;33m\u001b[0m\u001b[0m\n\u001b[0;32m      4\u001b[0m                  \u001b[1;33m[\u001b[0m\u001b[1;36m1\u001b[0m\u001b[1;33m,\u001b[0m\u001b[1;36m0\u001b[0m\u001b[1;33m]\u001b[0m\u001b[1;33m,\u001b[0m\u001b[1;33m\u001b[0m\u001b[0m\n\u001b[0;32m      5\u001b[0m                  [1,1]])\n",
      "\u001b[1;31mNameError\u001b[0m: name 'np' is not defined"
     ]
    }
   ],
   "source": [
    "#nasze dane    \n",
    "dane = np.array([[0,0],\n",
    "                 [0,1],\n",
    "                 [1,0],\n",
    "                 [1,1]])\n",
    "\n",
    "odpowiedz = np.array([[0],\n",
    "                      [1],\n",
    "                      [0],\n",
    "                      [0]])"
   ]
  },
  {
   "cell_type": "markdown",
   "metadata": {},
   "source": [
    "we switch from indyvidual numbers to matrix based data and network"
   ]
  },
  {
   "cell_type": "markdown",
   "metadata": {},
   "source": [
    "## Activation function & its derivative"
   ]
  },
  {
   "cell_type": "code",
   "execution_count": 4,
   "metadata": {},
   "outputs": [],
   "source": [
    "#funkcja aktywacyjna i jej pochodna\n",
    "def sigmoid(x):\n",
    "    return 1/(1+np.exp(-x))\n",
    "\n",
    "def sigmoid_pochodna(x):\n",
    "    return x * (1-x)"
   ]
  },
  {
   "cell_type": "markdown",
   "metadata": {},
   "source": [
    "## Kod implementujący sieć"
   ]
  },
  {
   "cell_type": "code",
   "execution_count": 5,
   "metadata": {
    "scrolled": false
   },
   "outputs": [
    {
     "name": "stdout",
     "output_type": "stream",
     "text": [
      "Input_Wagi:\n",
      " [[ 0.10159581  0.41629565 -0.41819052  0.02165521]\n",
      " [ 0.78589391  0.79258618 -0.74882938 -0.58551424]]\n",
      "Hidden_Wagi:\n",
      " [-0.89706559 -0.11838031 -0.94024758 -0.08633355]\n"
     ]
    }
   ],
   "source": [
    "#funkcje potrzebne do stworzenia sieci\n",
    "def hidden(j):\n",
    "    return sigmoid(np.dot(dane[j],Input_Wagi)) #inner product of matricises\n",
    "\n",
    "def answer(j):\n",
    "    return sigmoid(np.dot(hidden(j),Hidden_Wagi)) #inner product of matricises\n",
    "\n",
    "def wagi(seed=True):\n",
    "    #ustalamy seed, zeby eksperyment byl powtarzalny\n",
    "    if seed:\n",
    "        np.random.seed(3)\n",
    "    #tworzyny losowe wagi za pomoca funkcji numpy (zwraca wartosc pomiedzy 0 i 1)\n",
    "    Input_Wagi = 2*np.random.random((2,4)) - 1\n",
    "    Hidden_Wagi = 2*np.random.random((4)) - 1\n",
    "    return Input_Wagi, Hidden_Wagi\n",
    "\n",
    "Input_Wagi, Hidden_Wagi = wagi()\n",
    "\n",
    "print(f'Input_Wagi:\\n {Input_Wagi}')\n",
    "print(f'Hidden_Wagi:\\n {Hidden_Wagi}')"
   ]
  },
  {
   "cell_type": "markdown",
   "metadata": {},
   "source": [
    "# Sieć się uczy"
   ]
  },
  {
   "cell_type": "code",
   "execution_count": 7,
   "metadata": {},
   "outputs": [],
   "source": [
    "#nasze dane    \n",
    "dane = np.array([[0,0],\n",
    "                 [0,1],\n",
    "                 [1,0],\n",
    "                 [1,1]])\n",
    "\n",
    "odpowiedz = np.array([[0],\n",
    "                      [1],\n",
    "                      [0],\n",
    "                      [0]])\n",
    "epoki = 1000\n",
    "\n",
    "Input_Wagi, Hidden_Wagi = wagi()\n",
    "\n",
    "def learn(dane, odpowiedz, Input_Wagi, Hidden_Wagi, epoki, verbose):\n",
    "    \n",
    "    errors =  []\n",
    "    \n",
    "    for epoch in range(epoki):\n",
    "        for j in range(4):\n",
    "            odp = answer(j)\n",
    "            #print(f' answer: {odp}')\n",
    "            \n",
    "            err = []\n",
    "\n",
    "            answer_error = odpowiedz[j] - odp\n",
    "            err.append(answer_error)\n",
    "            \n",
    "            #print(f'answer error: {answer_error}')\n",
    "            answer_delta = answer_error*sigmoid_pochodna(odp)\n",
    "            #print(f'answer_delta: {answer_delta}')\n",
    "            hidden_error = answer_delta * Hidden_Wagi.T\n",
    "            #print(f'hidden_error: {hidden_error}')\n",
    "\n",
    "            hidden_delta = hidden_error * sigmoid_pochodna(hidden(j))\n",
    "            #print(f'hidden_delta: {hidden_delta}')\n",
    "\n",
    "            Hidden_Wagi += hidden(j) * (answer_delta)\n",
    "            #print(f'Hidden_Wagi : {Hidden_Wagi}')\n",
    "\n",
    "            Input_Wagi += dane[j].reshape(2, 1) * (hidden_delta)\n",
    "            \n",
    "            if j == 3:\n",
    "                err = [abs(i) for i in err]\n",
    "                errors.append(err)\n",
    "\n",
    "\n",
    "        if verbose == 1:\n",
    "            if epoch%(100) == 0:\n",
    "                for i in range(4):\n",
    "                    print(f'dane: {dane[i]} odpowiedz: {odpowiedz[i]} odpowiedz_sieci: {answer(i)}')\n",
    "                print(f'error: {errors[-1][0]}')\n",
    "                print('-------------------------------------------------------------------')\n",
    "\n",
    "    return Input_Wagi, Hidden_Wagi"
   ]
  },
  {
   "cell_type": "code",
   "execution_count": 8,
   "metadata": {
    "scrolled": false
   },
   "outputs": [
    {
     "name": "stdout",
     "output_type": "stream",
     "text": [
      "dane: [0 0] odpowiedz: [0] odpowiedz_sieci: 0.2591329224206299\n",
      "dane: [0 1] odpowiedz: [1] odpowiedz_sieci: 0.259739470645977\n",
      "dane: [1 0] odpowiedz: [0] odpowiedz_sieci: 0.26913528043410406\n",
      "dane: [1 1] odpowiedz: [0] odpowiedz_sieci: 0.26761473880650216\n",
      "error: [ 0.28376216]\n",
      "-------------------------------------------------------------------\n",
      "dane: [0 0] odpowiedz: [0] odpowiedz_sieci: 0.16174404970211112\n",
      "dane: [0 1] odpowiedz: [1] odpowiedz_sieci: 0.6870817026404531\n",
      "dane: [1 0] odpowiedz: [0] odpowiedz_sieci: 0.021720099313901533\n",
      "dane: [1 1] odpowiedz: [0] odpowiedz_sieci: 0.17302616053475792\n",
      "error: [ 0.18637754]\n",
      "-------------------------------------------------------------------\n",
      "dane: [0 0] odpowiedz: [0] odpowiedz_sieci: 0.09768678532644809\n",
      "dane: [0 1] odpowiedz: [1] odpowiedz_sieci: 0.8677645096301934\n",
      "dane: [1 0] odpowiedz: [0] odpowiedz_sieci: 0.002104783993690341\n",
      "dane: [1 1] odpowiedz: [0] odpowiedz_sieci: 0.06905268625293884\n",
      "error: [ 0.07041803]\n",
      "-------------------------------------------------------------------\n",
      "dane: [0 0] odpowiedz: [0] odpowiedz_sieci: 0.07300055980370254\n",
      "dane: [0 1] odpowiedz: [1] odpowiedz_sieci: 0.9088528609243353\n",
      "dane: [1 0] odpowiedz: [0] odpowiedz_sieci: 0.0007147014876784598\n",
      "dane: [1 1] odpowiedz: [0] odpowiedz_sieci: 0.04486993188661788\n",
      "error: [ 0.04531547]\n",
      "-------------------------------------------------------------------\n",
      "dane: [0 0] odpowiedz: [0] odpowiedz_sieci: 0.060191892122540704\n",
      "dane: [0 1] odpowiedz: [1] odpowiedz_sieci: 0.9274824467690664\n",
      "dane: [1 0] odpowiedz: [0] odpowiedz_sieci: 0.00036487651591115725\n",
      "dane: [1 1] odpowiedz: [0] odpowiedz_sieci: 0.0343796161426869\n",
      "error: [ 0.03460145]\n",
      "-------------------------------------------------------------------\n",
      "dane: [0 0] odpowiedz: [0] odpowiedz_sieci: 0.052173239255864715\n",
      "dane: [0 1] odpowiedz: [1] odpowiedz_sieci: 0.9384254756177438\n",
      "dane: [1 0] odpowiedz: [0] odpowiedz_sieci: 0.00022502124935658673\n",
      "dane: [1 1] odpowiedz: [0] odpowiedz_sieci: 0.028426819680361218\n",
      "error: [ 0.02856136]\n",
      "-------------------------------------------------------------------\n",
      "dane: [0 0] odpowiedz: [0] odpowiedz_sieci: 0.04659099568077012\n",
      "dane: [0 1] odpowiedz: [1] odpowiedz_sieci: 0.9457599397726291\n",
      "dane: [1 0] odpowiedz: [0] odpowiedz_sieci: 0.0001545459377113971\n",
      "dane: [1 1] odpowiedz: [0] odpowiedz_sieci: 0.024540765005813068\n",
      "error: [ 0.02463205]\n",
      "-------------------------------------------------------------------\n",
      "dane: [0 0] odpowiedz: [0] odpowiedz_sieci: 0.04243365762636178\n",
      "dane: [0 1] odpowiedz: [1] odpowiedz_sieci: 0.9510845180055686\n",
      "dane: [1 0] odpowiedz: [0] odpowiedz_sieci: 0.00011374490746848497\n",
      "dane: [1 1] odpowiedz: [0] odpowiedz_sieci: 0.021777740363686505\n",
      "error: [ 0.02184431]\n",
      "-------------------------------------------------------------------\n",
      "dane: [0 0] odpowiedz: [0] odpowiedz_sieci: 0.03919009912610339\n",
      "dane: [0 1] odpowiedz: [1] odpowiedz_sieci: 0.9551624263214548\n",
      "dane: [1 0] odpowiedz: [0] odpowiedz_sieci: 8.783591241519368e-05\n",
      "dane: [1 1] odpowiedz: [0] odpowiedz_sieci: 0.019697314207577796\n",
      "error: [ 0.01974833]\n",
      "-------------------------------------------------------------------\n",
      "dane: [0 0] odpowiedz: [0] odpowiedz_sieci: 0.0365720589993588\n",
      "dane: [0 1] odpowiedz: [1] odpowiedz_sieci: 0.9584075411193353\n",
      "dane: [1 0] odpowiedz: [0] odpowiedz_sieci: 7.026196407870811e-05\n",
      "dane: [1 1] odpowiedz: [0] odpowiedz_sieci: 0.01806520633836734\n",
      "error: [ 0.01810576]\n",
      "-------------------------------------------------------------------\n"
     ]
    },
    {
     "data": {
      "text/plain": [
       "(array([[ 2.17864477, -1.62033891,  3.965384  ,  1.96399974],\n",
       "        [-1.89438365,  2.48075202, -2.69429186, -2.10966081]]),\n",
       " array([-2.71928825,  4.58576906, -5.62940121, -2.90505642]))"
      ]
     },
     "execution_count": 8,
     "metadata": {},
     "output_type": "execute_result"
    }
   ],
   "source": [
    "learn(dane, odpowiedz, Input_Wagi, Hidden_Wagi, epoki, verbose = 1)\n",
    "\n",
    "#decibel value , average error for epoch"
   ]
  },
  {
   "cell_type": "code",
   "execution_count": 9,
   "metadata": {},
   "outputs": [],
   "source": [
    "#plot errors in matplotlib"
   ]
  },
  {
   "cell_type": "code",
   "execution_count": 10,
   "metadata": {
    "scrolled": true
   },
   "outputs": [],
   "source": [
    "dobre_wagi = learn(dane, odpowiedz, Input_Wagi, Hidden_Wagi, epoki, 0)"
   ]
  },
  {
   "cell_type": "code",
   "execution_count": 6,
   "metadata": {},
   "outputs": [
    {
     "data": {
      "text/plain": [
       "(array([[ 2.29882376, -1.7897913 ,  4.13320588,  2.09333835],\n",
       "        [-2.06703959,  2.616031  , -2.83614762, -2.24768868]]),\n",
       " array([-3.08072014,  4.96669224, -6.08672886, -3.26791027]))"
      ]
     },
     "execution_count": 6,
     "metadata": {},
     "output_type": "execute_result"
    }
   ],
   "source": [
    "dobre_wagi"
   ]
  },
  {
   "cell_type": "markdown",
   "metadata": {},
   "source": [
    "# Inference"
   ]
  },
  {
   "cell_type": "code",
   "execution_count": 11,
   "metadata": {},
   "outputs": [],
   "source": [
    "def siec(dobre_wagi, dane):\n",
    "    \n",
    "    def sigmoid(x):\n",
    "        return 1/(1+np.exp(-x))\n",
    "\n",
    "    def hidden(dane):\n",
    "        return sigmoid(np.dot(dane,dobre_wagi[0]))\n",
    "\n",
    "    return sigmoid(np.dot(hidden(dane),dobre_wagi[1]))\n",
    "\n",
    "    "
   ]
  },
  {
   "cell_type": "code",
   "execution_count": 13,
   "metadata": {},
   "outputs": [
    {
     "data": {
      "text/plain": [
       "0.023331714123759818"
      ]
     },
     "execution_count": 13,
     "metadata": {},
     "output_type": "execute_result"
    }
   ],
   "source": [
    "dane = [0, 0]\n",
    "siec(dobre_wagi, dane)"
   ]
  },
  {
   "cell_type": "markdown",
   "metadata": {},
   "source": [
    "#  BackUp"
   ]
  },
  {
   "cell_type": "markdown",
   "metadata": {},
   "source": [
    "## dot product"
   ]
  },
  {
   "cell_type": "code",
   "execution_count": null,
   "metadata": {},
   "outputs": [],
   "source": [
    "x = np.array([[1,2],[10,20]])\n",
    "y = np.array([[3,4],[5,6]])\n",
    "wektor = np.array([2,3])\n",
    "\n",
    "\n",
    "# Inner product of matrices\n",
    "#[[1*3+2*5  1*4+2*6], [10*3+20*5 10*4+20*6]\n",
    "#[13, 16][130, 160]\n",
    "print(np.dot(x, y))\n",
    "\n",
    "\n",
    "# Matrix / vector product; produce the rank 1 array [8 80]\n",
    "#[[2*1+3*2], [2*10 + 3*20]\n",
    "#[8, 80]\n",
    "print(np.dot(x, wektor))"
   ]
  }
 ],
 "metadata": {
  "kernelspec": {
   "display_name": "Python [default]",
   "language": "python",
   "name": "python3"
  },
  "language_info": {
   "codemirror_mode": {
    "name": "ipython",
    "version": 3
   },
   "file_extension": ".py",
   "mimetype": "text/x-python",
   "name": "python",
   "nbconvert_exporter": "python",
   "pygments_lexer": "ipython3",
   "version": "3.6.5"
  },
  "toc": {
   "base_numbering": 1,
   "nav_menu": {},
   "number_sections": true,
   "sideBar": true,
   "skip_h1_title": false,
   "title_cell": "Table of Contents",
   "title_sidebar": "Contents",
   "toc_cell": false,
   "toc_position": {},
   "toc_section_display": true,
   "toc_window_display": true
  }
 },
 "nbformat": 4,
 "nbformat_minor": 2
}
