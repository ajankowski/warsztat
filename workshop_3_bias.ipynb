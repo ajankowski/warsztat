{
 "cells": [
  {
   "cell_type": "markdown",
   "metadata": {},
   "source": [
    "## Bias"
   ]
  },
  {
   "cell_type": "markdown",
   "metadata": {},
   "source": [
    "biases are almost always helpful.\n",
    "Bias value allows you to shift the activation function to the left or right, which may be critical for successful learning.\n",
    "\n",
    "It might help to look at a simple example. Consider this 1-input, 1-output network that has no bias:\n",
    "\n",
    "<img src=\"files/bias.gif\" />\n",
    "\n",
    "The output of the network is computed by multiplying the input (x) by the weight (w0) and passing the result through some kind of activation function (e.g. a sigmoid function.)"
   ]
  },
  {
   "cell_type": "markdown",
   "metadata": {},
   "source": [
    "Here is the function that this network computes, for various values of w:\n",
    "    \n",
    "<img src=\"files/nobias.png\" />\n",
    "\n",
    "Changing the weight w0 essentially changes the \"steepness\" of the sigmoid. That's useful, but what if you wanted the network to output 0 when x is 2? Just changing the steepness of the sigmoid won't really work -- you want to be able to shift the entire curve to the right."
   ]
  },
  {
   "cell_type": "markdown",
   "metadata": {},
   "source": [
    "That's exactly what the bias allows you to do. If we add a bias to that network, like so:\n",
    "\n",
    "<img src=\"files/addbias.gif\" />\n",
    "\n"
   ]
  },
  {
   "cell_type": "markdown",
   "metadata": {},
   "source": [
    "The output of the network becomes sig(w0*x + w1*1.0). Here is what the output of the network looks like for various values of w1:\n",
    "\n",
    "<img src=\"files/sigbias.png\" />\n",
    "\n",
    "Having a weight of -5 for w1 shifts the curve to the right, which allows us to have a network that outputs 0 when x is 2.\n"
   ]
  },
  {
   "cell_type": "code",
   "execution_count": null,
   "metadata": {
    "collapsed": true
   },
   "outputs": [],
   "source": []
  },
  {
   "cell_type": "code",
   "execution_count": null,
   "metadata": {
    "collapsed": true
   },
   "outputs": [],
   "source": []
  }
 ],
 "metadata": {
  "kernelspec": {
   "display_name": "Python 3",
   "language": "python",
   "name": "python3"
  },
  "language_info": {
   "codemirror_mode": {
    "name": "ipython",
    "version": 3
   },
   "file_extension": ".py",
   "mimetype": "text/x-python",
   "name": "python",
   "nbconvert_exporter": "python",
   "pygments_lexer": "ipython3",
   "version": "3.6.3"
  }
 },
 "nbformat": 4,
 "nbformat_minor": 2
}
