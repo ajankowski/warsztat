{
 "cells": [
  {
   "cell_type": "markdown",
   "metadata": {
    "slideshow": {
     "slide_type": "slide"
    }
   },
   "source": [
    "<img src='prezentacja.png' />\n",
    " \n",
    "C:\\Users\\ajankows\\Desktop\\python\\002_notebooks\\workshop\\Sztuczna_Inteligencja_dla_poetów.ppt"
   ]
  },
  {
   "cell_type": "markdown",
   "metadata": {
    "slideshow": {
     "slide_type": "slide"
    }
   },
   "source": [
    "# Spis tresci\n",
    "1. ## [Podstawy programowania w Pythonie](http://localhost:8888/notebooks/002_notebooks/workshop/0_workshop_1_Python_w_10_minut.ipynb)   \n",
    "2. ## [Programujemy pierwszą sieć neuronową](http://localhost:8888/notebooks/002_notebooks/workshop/0_workshop_2_Pierwsza_Siec_Neuronowa.ipynb)  \n",
    "    3. [Nasza sieć zaczyna się uczyć](http://localhost:8888/notebooks/002_notebooks/workshop/0_workshop_3_sie%C4%87_si%C4%99_uczy.ipynb) \n",
    "4. ## [Funkcja XOR - pierwsza w pelni działająca sieć](http://localhost:8888/notebooks/002_notebooks/workshop/0_workshop_4_xor.ipynb)  \n",
    "    4. [Macierze (tablice) i biblioteka Numpy](http://localhost:8888/notebooks/002_notebooks/workshop/0_workshop_3_numpy_short.ipynb)\n",
    "    4. [Inference, testujemy naszą sieć](http://localhost:8888/notebooks/002_notebooks/workshop/0_workshop_4_xor_manual_test.ipynb)\n",
    "6. ## [Rozpoznawanie cyfr - zbiór MNIST](http://localhost:8889/notebooks/002_notebooks/workshop/0_workshop_5_nn_mnist.ipynb)   \n",
    "7. ## [Keras - Python Deep Learning library](http://localhost:8888/notebooks/002_notebooks/workshop/0_workshop_6_Keras.ipynb)  \n",
    "    8. [EXTRA Keras CIFAR10 dataset](http://localhost:8888/notebooks/002_notebooks/workshop/0_workshop_7_Keras_CIFAR10.ipynb)\n",
    "\n",
    "\n"
   ]
  },
  {
   "cell_type": "markdown",
   "metadata": {},
   "source": [
    "### to do\n",
    "\n",
    "### dokumentacja wymagań (biblioteki + instrukcje instalacji + docker??)\n",
    "\n",
    "### [docker](https://store.docker.com/search?offering=community&type=edition)\n",
    "[windows pro or enterprise](https://store.docker.com/editions/community/docker-ce-desktop-windows)\n",
    "\n",
    "[windows home - toolbox](https://docs.docker.com/toolbox/toolbox_install_windows/#what-you-get-and-how-it-works)\n",
    "\n",
    "[dodac rysunek sieci do xor]\n",
    "\n",
    "[opis macierzy i biblioteki numpy](http://localhost:8888/notebooks/002_notebooks/workshop/0_workshop_3_numpy_short.ipynb#Macierze---tablice) \n",
    "[rysunek danych pokjedynczo i tabeli]\n",
    "[prdsumowanie poprzednich czesci]\n",
    "[opis zbioru mnist, programu dla us post,LeCun](http://localhost:8888/notebooks/002_notebooks/workshop/0_workshop_5_nn_mnist.ipynb#Rozpoznawanie-cyfr-i-zbi%C3%B3r-MNIST)   \n",
    "[dopisac notebook for keras MNIST (moze nawet cifar??)](http://localhost:8888/notebooks/002_notebooks/workshop/0_workshop_6_Keras.ipynb)  \n",
    "[Keras - dopisac test do wytrenowanej sieci](http://localhost:8888/notebooks/002_notebooks/workshop/0_workshop_6_Keras.ipynb#Sprawdzamy,-czy-nasza-sie%C4%87-dzia%C5%82a)  "
   ]
  },
  {
   "cell_type": "markdown",
   "metadata": {
    "slideshow": {
     "slide_type": "slide"
    }
   },
   "source": [
    "https://www.tensorflow.org/install/  \n",
    "https://keras.io/#installation  \n",
    "https://www.anaconda.com/download/  \n",
    "https://github.com/stared/keras-sequential-ascii  \n",
    "https://ipywidgets.readthedocs.io/en/latest/user_install.html  \n",
    "\n",
    "    "
   ]
  },
  {
   "cell_type": "markdown",
   "metadata": {},
   "source": [
    "### requirements\n",
    "numpy==1.14.1  \n",
    "keras==2.1.4  \n",
    "tensorflow==1.5.0  \n",
    "h5py==2.7.0  \n",
    "Pillow==5.0.0  \n",
    "matplotlib==2.2.2  \n",
    "nb_conda==2.2.0  \n",
    "imageio  \n",
    "nbextensions\n",
    "jupyter_nbextensions_configurator\n",
    "\n",
    "### to do\n",
    "jupyter nbextensions_configurator enable --user  \n",
    "jupyter contrib nbextension install --user  "
   ]
  },
  {
   "cell_type": "markdown",
   "metadata": {
    "collapsed": true,
    "slideshow": {
     "slide_type": "slide"
    }
   },
   "source": [
    "# Instrukcje dla uczestników\n",
    "\n",
    "Download Docker engine (działa z MacOS, Windows Pro/EE, Linux):\n",
    "https://store.docker.com/search?offering=community&type=edition\n",
    "\n",
    "Jeśli korzystasz z Windows Home lub starszych wersji musisz skorzystać z Docker Toolbox'a:\n",
    "https://docs.docker.com/toolbox/toolbox_install_windows\n",
    "\n",
    "Start CMD:\n",
    "docker pull ajankows/w_test\n",
    "\n",
    "CMD:\n",
    "docker run -d -p 8888:8888 jupyter/tensorflow-notebook start-notebook.sh --NotebookApp.token=''\n",
    "\n",
    "Przeglądarka:\n",
    "localhost:8888\n",
    "\n",
    "\n",
    "\n",
    "\n",
    "\n"
   ]
  },
  {
   "cell_type": "markdown",
   "metadata": {},
   "source": [
    "jupyter nbconvert 0_workshop_0_jupyter.ipynb --to slides --post serve"
   ]
  },
  {
   "cell_type": "code",
   "execution_count": null,
   "metadata": {},
   "outputs": [],
   "source": []
  }
 ],
 "metadata": {
  "celltoolbar": "Slideshow",
  "kernelspec": {
   "display_name": "Python [default]",
   "language": "python",
   "name": "python3"
  },
  "language_info": {
   "codemirror_mode": {
    "name": "ipython",
    "version": 3
   },
   "file_extension": ".py",
   "mimetype": "text/x-python",
   "name": "python",
   "nbconvert_exporter": "python",
   "pygments_lexer": "ipython3",
   "version": "3.6.5"
  },
  "toc": {
   "base_numbering": 1,
   "nav_menu": {},
   "number_sections": true,
   "sideBar": true,
   "skip_h1_title": false,
   "title_cell": "Table of Contents",
   "title_sidebar": "Contents",
   "toc_cell": false,
   "toc_position": {},
   "toc_section_display": true,
   "toc_window_display": false
  }
 },
 "nbformat": 4,
 "nbformat_minor": 2
}
