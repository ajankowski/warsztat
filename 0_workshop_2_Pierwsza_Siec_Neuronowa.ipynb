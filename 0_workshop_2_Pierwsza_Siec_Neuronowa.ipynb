{
 "cells": [
  {
   "cell_type": "markdown",
   "metadata": {},
   "source": [
    "# Nasza pierwsza sieć neuronowa"
   ]
  },
  {
   "cell_type": "markdown",
   "metadata": {},
   "source": [
    "<img src=\"network.png\" />"
   ]
  },
  {
   "cell_type": "code",
   "execution_count": 1,
   "metadata": {},
   "outputs": [],
   "source": [
    "# import bibliotek\n",
    "import math\n",
    "import numpy as np\n",
    "%matplotlib inline \n",
    "from matplotlib import pyplot as plt\n",
    "from ipywidgets import interact, interactive, fixed, interact_manual\n",
    "import ipywidgets as widgets\n",
    "from IPython.display import Image"
   ]
  },
  {
   "cell_type": "markdown",
   "metadata": {
    "collapsed": true
   },
   "source": [
    "# Kluczowe elementy sieci neuronowej\n",
    "\n",
    "- wielkosc sieci neuronowej\n",
    "    - input\n",
    "    - ilosc warstw\n",
    "    - ilosc neuronow w warstwach\n",
    "    - output\n",
    "- wagi\n",
    "- szybkosc uczenia sie\n",
    "- funkcja aktywacyjna"
   ]
  },
  {
   "cell_type": "markdown",
   "metadata": {},
   "source": [
    "## Wielkość sieci neuronowej\n",
    "- Warstwa wejściowa (input) = nasze dane\n",
    "    - ile cech w naszych danych (features) tyle neuronów \n",
    "- Warstwa wyjściowa (otput, odpowiedżsieci) \n",
    "    - zależy od tego ilu odpowiedzi się spodziewamy\n",
    "- Warstwa/warstwy ukryte\n",
    "    - metoda prób i błędów"
   ]
  },
  {
   "cell_type": "markdown",
   "metadata": {},
   "source": [
    "## Jak działa sztuczny neuron?"
   ]
  },
  {
   "cell_type": "markdown",
   "metadata": {},
   "source": [
    "<img src='jak_dziala_sztuczny_neuron.png' />"
   ]
  },
  {
   "cell_type": "markdown",
   "metadata": {
    "collapsed": true
   },
   "source": [
    "## Najpopularniejsze funkcje aktywacyjne\n",
    "\n",
    "sigmoid: f(x) = 1/e**(-x)\n",
    "<img src='sigmoid.png' />\n",
    "\n",
    "reLU:    f(x) = x*(x>0)\n",
    "<img src='relu.png' />\n"
   ]
  },
  {
   "cell_type": "code",
   "execution_count": 21,
   "metadata": {},
   "outputs": [],
   "source": [
    "def relu(x):\n",
    "    return x * (x > 0)\n",
    "\n",
    "def sigmoid(x):\n",
    "    return 1/(1+np.exp(-x))"
   ]
  },
  {
   "cell_type": "code",
   "execution_count": 22,
   "metadata": {},
   "outputs": [],
   "source": [
    "#relu(-2)"
   ]
  },
  {
   "cell_type": "code",
   "execution_count": 34,
   "metadata": {},
   "outputs": [
    {
     "name": "stdout",
     "output_type": "stream",
     "text": [
      "[-5.         -4.7755102  -4.55102041 -4.32653061 -4.10204082 -3.87755102\n",
      " -3.65306122 -3.42857143 -3.20408163 -2.97959184 -2.75510204 -2.53061224\n",
      " -2.30612245 -2.08163265 -1.85714286 -1.63265306 -1.40816327 -1.18367347\n",
      " -0.95918367 -0.73469388 -0.51020408 -0.28571429 -0.06122449  0.16326531\n",
      "  0.3877551   0.6122449   0.83673469  1.06122449  1.28571429  1.51020408\n",
      "  1.73469388  1.95918367  2.18367347  2.40816327  2.63265306  2.85714286\n",
      "  3.08163265  3.30612245  3.53061224  3.75510204  3.97959184  4.20408163\n",
      "  4.42857143  4.65306122  4.87755102  5.10204082  5.32653061  5.55102041\n",
      "  5.7755102   6.        ]\n"
     ]
    },
    {
     "data": {
      "image/png": "[encoded data removed]",
      "text/plain": [
       "<Figure size 432x288 with 1 Axes>"
      ]
     },
     "metadata": {},
     "output_type": "display_data"
    }
   ],
   "source": [
    "#x = np.arange(-10, 11)\n",
    "x = np.linspace(-5, 6)\n",
    "\n",
    "print(x)\n",
    "   \n",
    "plt.plot(x, sigmoid(x))\n",
    "\n",
    "plt.xlim(-5, 6)\n",
    "plt.ylim(0, 1)\n",
    "plt.grid(True)\n",
    "\n",
    "plt.show()"
   ]
  },
  {
   "cell_type": "code",
   "execution_count": 36,
   "metadata": {
    "scrolled": true
   },
   "outputs": [
    {
     "data": {
      "application/vnd.jupyter.widget-view+json": {
       "model_id": "c01bd0b9319749f5bf2603a6b8675905",
       "version_major": 2,
       "version_minor": 0
      },
      "text/plain": [
       "interactive(children=(IntSlider(value=0, description='x', max=10, min=-9), Output()), _dom_classes=('widget-in…"
      ]
     },
     "metadata": {},
     "output_type": "display_data"
    }
   ],
   "source": [
    "@interact(x=widgets.IntSlider(min=-9,max=10,step=1,value=0))\n",
    "def aktywacja(x):\n",
    "    print(f'sigmoid: {sigmoid(x)}')"
   ]
  },
  {
   "cell_type": "markdown",
   "metadata": {},
   "source": [
    "<img src=\"network.png\" />"
   ]
  },
  {
   "cell_type": "markdown",
   "metadata": {},
   "source": [
    "## Dane wejściowe"
   ]
  },
  {
   "cell_type": "code",
   "execution_count": 6,
   "metadata": {},
   "outputs": [],
   "source": [
    "x = 1\n",
    "y = 0"
   ]
  },
  {
   "cell_type": "markdown",
   "metadata": {},
   "source": [
    "### Wagi dla naszej sieci"
   ]
  },
  {
   "cell_type": "code",
   "execution_count": 7,
   "metadata": {},
   "outputs": [],
   "source": [
    "# wstępne/losowe wagi dla naszej sieci\n",
    "waga_11 = 0.2\n",
    "waga_12 = -0.1\n",
    "waga_21 = 0.3\n",
    "waga_22 = 0.5\n",
    "waga_13 = -0.2\n",
    "waga_23 = 0.4"
   ]
  },
  {
   "cell_type": "markdown",
   "metadata": {},
   "source": [
    "### Definiujemy działanie neuronów w warstwie ukrytej"
   ]
  },
  {
   "cell_type": "code",
   "execution_count": 37,
   "metadata": {},
   "outputs": [],
   "source": [
    "#dodac math formula\n",
    "\n",
    "def neuron_H1(x, y):\n",
    "    inputs = (x * waga_11) + (y * waga_21)\n",
    "    output = sigmoid(inputs)\n",
    "    return output  "
   ]
  },
  {
   "cell_type": "code",
   "execution_count": 38,
   "metadata": {},
   "outputs": [
    {
     "data": {
      "text/plain": [
       "array([ 0.97626919,  0.9720796 ,  0.96717522,  0.96144353,  0.95475781,\n",
       "        0.94697673,  0.93794437,  0.9274912 ,  0.91543596,  0.90158909,\n",
       "        0.88575783,  0.86775337,  0.84740028,  0.82454813,  0.7990852 ,\n",
       "        0.77095342,  0.74016349,  0.70680862,  0.6710748 ,  0.63324565,\n",
       "        0.59369993,  0.55290076,  0.5113765 ,  0.46969463,  0.42843128,\n",
       "        0.38813975,  0.34932159,  0.31240348,  0.27772174,  0.24551546,\n",
       "        0.21592747,  0.18901195,  0.16474652,  0.14304682,  0.12378174,\n",
       "        0.1067879 ,  0.09188247,  0.07887382,  0.06756989,  0.05778437,\n",
       "        0.049341  ,  0.04207628,  0.03584085,  0.03050004,  0.02593369,\n",
       "        0.02203546,  0.01871193,  0.01588154,  0.0134734 ,  0.01142617])"
      ]
     },
     "execution_count": 38,
     "metadata": {},
     "output_type": "execute_result"
    }
   ],
   "source": [
    "neuron_H1(x, y)"
   ]
  },
  {
   "cell_type": "code",
   "execution_count": 39,
   "metadata": {},
   "outputs": [],
   "source": [
    "def neuron_H2(x, y):\n",
    "    inputs = (x * waga_21) + (y * waga_22)\n",
    "    output = sigmoid(inputs)\n",
    "    return output "
   ]
  },
  {
   "cell_type": "markdown",
   "metadata": {},
   "source": [
    "### Odpowiedź sieci"
   ]
  },
  {
   "cell_type": "code",
   "execution_count": 40,
   "metadata": {},
   "outputs": [],
   "source": [
    "def odpowiedz(x, y):\n",
    "    neuron1 = neuron_H1(x, y)\n",
    "    neuron2 = neuron_H2(x, y)  \n",
    "\n",
    "    return neuron1 * waga_13 + neuron2 * waga_23"
   ]
  },
  {
   "cell_type": "code",
   "execution_count": 41,
   "metadata": {},
   "outputs": [
    {
     "data": {
      "text/plain": [
       "-0.11014927385459039"
      ]
     },
     "execution_count": 41,
     "metadata": {},
     "output_type": "execute_result"
    }
   ],
   "source": [
    "odpowiedz(1, 0)"
   ]
  },
  {
   "cell_type": "markdown",
   "metadata": {},
   "source": [
    "## Przetestujmy naszą sieć"
   ]
  },
  {
   "cell_type": "code",
   "execution_count": 42,
   "metadata": {
    "scrolled": true
   },
   "outputs": [
    {
     "data": {
      "application/vnd.jupyter.widget-view+json": {
       "model_id": "0ba51f5f5585472e80c70c5681dc17bc",
       "version_major": 2,
       "version_minor": 0
      },
      "text/plain": [
       "interactive(children=(Dropdown(description='string', options=('0, 0', '0, 1', '1, 0', '1, 1'), value='0, 0'), …"
      ]
     },
     "metadata": {},
     "output_type": "display_data"
    }
   ],
   "source": [
    "dane = ['0, 0', '0, 1', '1, 0', '1, 1']\n",
    "\n",
    "@interact(string=dane)\n",
    "def odp(string):\n",
    "    \n",
    "    a, b = string.split(',')\n",
    "    x = int(a)\n",
    "    y = int(b)\n",
    "    return f'input: {string} odpowiedz sieci: {neuron_H1(x, y)*waga_13 + neuron_H2(x, y)*waga_23}'"
   ]
  },
  {
   "cell_type": "code",
   "execution_count": null,
   "metadata": {},
   "outputs": [],
   "source": []
  },
  {
   "cell_type": "markdown",
   "metadata": {},
   "source": [
    "## Zmiana wag"
   ]
  },
  {
   "cell_type": "code",
   "execution_count": 17,
   "metadata": {},
   "outputs": [],
   "source": [
    "# Sieć bardzo się stara wypaść lepiej (losowa zmiana wag)\n",
    "\n",
    "def update_wag():\n",
    "    global waga_11\n",
    "    global waga_12 \n",
    "    global waga_21 \n",
    "    global waga_22 \n",
    "    global waga_13 \n",
    "    global waga_23 \n",
    "    waga_11 += np.random.rand() * np.random.choice([1, -1]) # monożymy razy 1 lunb -1 , zeby uzyskac numery po obu stronach zera\n",
    "    waga_12 += np.random.rand() * np.random.choice([1, -1])\n",
    "    waga_21 += np.random.rand() * np.random.choice([1, -1])\n",
    "    waga_22 += np.random.rand() * np.random.choice([1, -1])\n",
    "    waga_13 += np.random.rand() * np.random.choice([1, -1])\n",
    "    waga_23 += np.random.rand() * np.random.choice([1, -1])\n",
    "    "
   ]
  },
  {
   "cell_type": "code",
   "execution_count": 18,
   "metadata": {
    "scrolled": false
   },
   "outputs": [],
   "source": [
    "def nauka_bez_sensu(x, y, epoki):\n",
    "    for epoka in range(epoki):\n",
    "        print(f'odpowiedz nr.{epoka}: {odpowiedz(x, y)}')\n",
    "        update_wag()\n",
    "    return f'odpowiedz końcowa: {odpowiedz(x, y)}'"
   ]
  },
  {
   "cell_type": "code",
   "execution_count": 19,
   "metadata": {},
   "outputs": [
    {
     "name": "stdout",
     "output_type": "stream",
     "text": [
      "odpowiedz nr.0: 0.14\n",
      "odpowiedz nr.1: 0.48703128984020716\n",
      "odpowiedz nr.2: 1.6137204006726977\n",
      "odpowiedz nr.3: 1.2662551680045369\n",
      "odpowiedz nr.4: 0.48616421608568794\n"
     ]
    },
    {
     "data": {
      "text/plain": [
       "'odpowiedz końcowa: 0.0'"
      ]
     },
     "execution_count": 19,
     "metadata": {},
     "output_type": "execute_result"
    }
   ],
   "source": [
    "nauka_bez_sensu(0, 1, 5)"
   ]
  }
 ],
 "metadata": {
  "kernelspec": {
   "display_name": "Python [default]",
   "language": "python",
   "name": "python3"
  },
  "language_info": {
   "codemirror_mode": {
    "name": "ipython",
    "version": 3
   },
   "file_extension": ".py",
   "mimetype": "text/x-python",
   "name": "python",
   "nbconvert_exporter": "python",
   "pygments_lexer": "ipython3",
   "version": "3.6.5"
  },
  "toc": {
   "base_numbering": 1,
   "nav_menu": {},
   "number_sections": true,
   "sideBar": true,
   "skip_h1_title": false,
   "title_cell": "Table of Contents",
   "title_sidebar": "Contents",
   "toc_cell": false,
   "toc_position": {},
   "toc_section_display": true,
   "toc_window_display": true
  }
 },
 "nbformat": 4,
 "nbformat_minor": 2
}
