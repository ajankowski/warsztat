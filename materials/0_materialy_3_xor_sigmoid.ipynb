{
 "cells": [
  {
   "cell_type": "code",
   "execution_count": 6,
   "metadata": {},
   "outputs": [],
   "source": [
    "import numpy as np"
   ]
  },
  {
   "cell_type": "markdown",
   "metadata": {},
   "source": [
    "# Importujemy bibliotekę numpy (operacje na macierzach)"
   ]
  },
  {
   "cell_type": "markdown",
   "metadata": {},
   "source": [
    "# Programowujemy naszą sieć z wykorzystaniem numpy"
   ]
  },
  {
   "cell_type": "code",
   "execution_count": null,
   "metadata": {},
   "outputs": [],
   "source": [
    "import numpy as np\n",
    "\n",
    "#funkcja aktywacyjna i jej pochodna\n",
    "def sigmoid(x):\n",
    "    return 1/(1+np.exp(-x))"
   ]
  },
  {
   "cell_type": "code",
   "execution_count": null,
   "metadata": {},
   "outputs": [],
   "source": [
    "def sigmoid_pochodna(x):\n",
    "    return x * (1-x)"
   ]
  },
  {
   "cell_type": "code",
   "execution_count": null,
   "metadata": {},
   "outputs": [],
   "source": [
    "#funkcje potrzebne do stworzenia sieci\n",
    "def hidden(j):\n",
    "    return sigmoid(np.dot(dane[j],Input_Wagi))"
   ]
  },
  {
   "cell_type": "code",
   "execution_count": null,
   "metadata": {},
   "outputs": [],
   "source": [
    "def answer(j):\n",
    "    return sigmoid(np.dot(hidden(j),Hidden_Wagi))"
   ]
  },
  {
   "cell_type": "code",
   "execution_count": null,
   "metadata": {},
   "outputs": [],
   "source": [
    "def wagi(seed=True):\n",
    "    #ustalamy seed, zeby eksperyment byl powtarzalny\n",
    "    if seed:\n",
    "        np.random.seed(3)\n",
    "    #tworzyny losowe wagi za pomoca funkcji numpy (zwraca wartosc pomiedzy 0 i 1)\n",
    "    Input_Wagi = 2*np.random.random((2,4)) - 1\n",
    "    Hidden_Wagi = 2*np.random.random((4)) - 1\n",
    "    return Input_Wagi, Hidden_Wagi"
   ]
  },
  {
   "cell_type": "code",
   "execution_count": 3,
   "metadata": {
    "scrolled": false
   },
   "outputs": [
    {
     "name": "stdout",
     "output_type": "stream",
     "text": [
      "Input_Wagi:\n",
      " [[ 0.10159581  0.41629565 -0.41819052  0.02165521]\n",
      " [ 0.78589391  0.79258618 -0.74882938 -0.58551424]]\n",
      "Hidden_Wagi:\n",
      " [-0.89706559 -0.11838031 -0.94024758 -0.08633355]\n"
     ]
    }
   ],
   "source": [
    "Input_Wagi, Hidden_Wagi = wagi()\n",
    "\n",
    "print(f'Input_Wagi:\\n {Input_Wagi}')\n",
    "print(f'Hidden_Wagi:\\n {Hidden_Wagi}')"
   ]
  },
  {
   "cell_type": "markdown",
   "metadata": {},
   "source": [
    "# Uczymy naszą sieć"
   ]
  },
  {
   "cell_type": "code",
   "execution_count": null,
   "metadata": {},
   "outputs": [],
   "source": [
    "#nasze dane    \n",
    "dane = np.array([[0,0],\n",
    "                 [0,1],\n",
    "                 [1,0],\n",
    "                 [1,1]])\n",
    "\n",
    "odpowiedz = np.array([[0],\n",
    "                      [1],\n",
    "                      [0],\n",
    "                      [0]])"
   ]
  },
  {
   "cell_type": "code",
   "execution_count": null,
   "metadata": {},
   "outputs": [],
   "source": [
    "epoki = 1000"
   ]
  },
  {
   "cell_type": "code",
   "execution_count": 22,
   "metadata": {
    "scrolled": true
   },
   "outputs": [],
   "source": [
    "Input_Wagi, Hidden_Wagi = wagi()\n",
    "\n",
    "def learn(dane, odpowiedz, Input_Wagi, Hidden_Wagi, epoki, verbose):\n",
    "    \n",
    "    errors =  []\n",
    "    \n",
    "    for epoch in range(epoki):\n",
    "        for j in range(4):\n",
    "            odp = answer(j)\n",
    "            #print(f' answer: {odp}')\n",
    "            \n",
    "            err = []\n",
    "\n",
    "            answer_error = odpowiedz[j] - odp\n",
    "            err.append(answer_error)\n",
    "            \n",
    "            #print(f'answer error: {answer_error}')\n",
    "            answer_delta = answer_error*sigmoid_pochodna(odp)\n",
    "            #print(f'answer_delta: {answer_delta}')\n",
    "            hidden_error = answer_delta * Hidden_Wagi.T\n",
    "            #print(f'hidden_error: {hidden_error}')\n",
    "\n",
    "            hidden_delta = hidden_error * sigmoid_pochodna(hidden(j))\n",
    "            #print(f'hidden_delta: {hidden_delta}')\n",
    "\n",
    "            Hidden_Wagi += hidden(j) * (answer_delta)\n",
    "            #print(f'Hidden_Wagi : {Hidden_Wagi}')\n",
    "\n",
    "            Input_Wagi += dane[j].reshape(2, 1) * (hidden_delta)\n",
    "            \n",
    "            if j == 3:\n",
    "                err = [abs(i) for i in err]\n",
    "                errors.append(err)\n",
    "\n",
    "\n",
    "        if verbose == 1:\n",
    "            if epoch%(100) == 0:\n",
    "                for i in range(4):\n",
    "                    print(f'dane: {dane[i]} odpowiedz: {odpowiedz[i]} odpowiedz_sieci: {answer(i)}')\n",
    "                print(errors[-1])\n",
    "                print('-------------------------------------------------------------------')\n",
    "\n",
    "    return Input_Wagi, Hidden_Wagi"
   ]
  },
  {
   "cell_type": "code",
   "execution_count": 30,
   "metadata": {
    "scrolled": false
   },
   "outputs": [
    {
     "data": {
      "text/plain": [
       "(array([[ 2.49095656, -2.04877051,  4.38074116,  2.29667811],\n",
       "        [-2.33441008,  2.82091806, -3.05313302, -2.47101885]]),\n",
       " array([-3.69649828,  5.58970631, -6.83305818, -3.88340635]))"
      ]
     },
     "execution_count": 30,
     "metadata": {},
     "output_type": "execute_result"
    }
   ],
   "source": [
    "learn(dane, odpowiedz, Input_Wagi, Hidden_Wagi, epoki, verbose = 0)\n",
    "\n",
    "#decibel value , average error for epoch"
   ]
  },
  {
   "cell_type": "code",
   "execution_count": 27,
   "metadata": {
    "scrolled": true
   },
   "outputs": [],
   "source": [
    "dobre_wagi = learn(dane, odpowiedz, Input_Wagi, Hidden_Wagi, epoki, 0)"
   ]
  },
  {
   "cell_type": "code",
   "execution_count": 88,
   "metadata": {},
   "outputs": [
    {
     "data": {
      "text/plain": [
       "(array([[-5.420739  ,  1.36329638,  0.4410503 ,  0.87714009],\n",
       "        [ 2.10091446,  0.96140039, -3.18904679, -3.80009574]]),\n",
       " array([-7.50594725,  4.66076789, -6.23295884, -5.35307276]))"
      ]
     },
     "execution_count": 88,
     "metadata": {},
     "output_type": "execute_result"
    }
   ],
   "source": [
    "dobre_wagi"
   ]
  },
  {
   "cell_type": "code",
   "execution_count": 90,
   "metadata": {},
   "outputs": [],
   "source": [
    "def siec(dobre_wagi, dane):\n",
    "    \n",
    "    def sigmoid(x):\n",
    "        return 1/(1+np.exp(-x))\n",
    "\n",
    "    def hidden(dane):\n",
    "        return sigmoid(np.dot(dane,dobre_wagi[0]))\n",
    "\n",
    "    return sigmoid(np.dot(hidden(dane),dobre_wagi[1]))\n",
    "\n",
    "    "
   ]
  },
  {
   "cell_type": "code",
   "execution_count": 93,
   "metadata": {},
   "outputs": [
    {
     "data": {
      "text/plain": [
       "0.024603593353301326"
      ]
     },
     "execution_count": 93,
     "metadata": {},
     "output_type": "execute_result"
    }
   ],
   "source": [
    "dane = [0, 1]\n",
    "siec(dobre_wagi, dane)"
   ]
  },
  {
   "cell_type": "code",
   "execution_count": null,
   "metadata": {},
   "outputs": [],
   "source": []
  }
 ],
 "metadata": {
  "kernelspec": {
   "display_name": "Python [default]",
   "language": "python",
   "name": "python3"
  },
  "language_info": {
   "codemirror_mode": {
    "name": "ipython",
    "version": 3
   },
   "file_extension": ".py",
   "mimetype": "text/x-python",
   "name": "python",
   "nbconvert_exporter": "python",
   "pygments_lexer": "ipython3",
   "version": "3.6.5"
  },
  "toc": {
   "base_numbering": 1,
   "nav_menu": {},
   "number_sections": true,
   "sideBar": true,
   "skip_h1_title": false,
   "title_cell": "Table of Contents",
   "title_sidebar": "Contents",
   "toc_cell": false,
   "toc_position": {},
   "toc_section_display": true,
   "toc_window_display": false
  }
 },
 "nbformat": 4,
 "nbformat_minor": 2
}
