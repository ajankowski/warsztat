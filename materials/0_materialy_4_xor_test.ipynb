{
 "cells": [
  {
   "cell_type": "markdown",
   "metadata": {},
   "source": [
    "# Wytrenowana sieć"
   ]
  },
  {
   "cell_type": "code",
   "execution_count": 1,
   "metadata": {},
   "outputs": [],
   "source": [
    "#nasza wytrenowana sieć\n",
    "import numpy as np\n",
    "\n",
    "def siec(dane):\n",
    "    dobre_wagi = (array([[-5.420739  ,  1.36329638,  0.4410503 ,  0.87714009],\n",
    "                         [ 2.10091446,  0.96140039, -3.18904679, -3.80009574]]),\n",
    "                   array([-7.50594725,  4.66076789, -6.23295884, -5.35307276]))\n",
    "    \n",
    "    def sigmoid(x):\n",
    "        return 1/(1+np.exp(-x))\n",
    "\n",
    "    def hidden(dane):\n",
    "        return sigmoid(np.dot(dane,dobre_wagi[0]))\n",
    "\n",
    "    return sigmoid(np.dot(hidden(dane),dobre_wagi[1]))"
   ]
  },
  {
   "cell_type": "markdown",
   "metadata": {},
   "source": [
    "# Implementujemy naszą sieć jako serwis :-)"
   ]
  },
  {
   "cell_type": "code",
   "execution_count": 9,
   "metadata": {
    "scrolled": true
   },
   "outputs": [],
   "source": [
    "#wprowadzamy dane i dostajemy odpowiedz sieci\n",
    "\n",
    "def manual_test():\n",
    "    \n",
    "    dobre_wagi = (([[-5.420739  ,  1.36329638,  0.4410503 ,  0.87714009],\n",
    "                    [ 2.10091446,  0.96140039, -3.18904679, -3.80009574]]),\n",
    "                   ([-7.50594725,  4.66076789, -6.23295884, -5.35307276]))\n",
    "    \n",
    "    def sigmoid(x):\n",
    "        return 1/(1+np.exp(-x))\n",
    "    def hidden(dane):\n",
    "        return sigmoid(np.dot(dane,dobre_wagi[0]))\n",
    "    def odpowiedz(dane):\n",
    "        return sigmoid(np.dot(hidden(dane),dobre_wagi[1]))\n",
    "    \n",
    "    while True:\n",
    "        x = input('podaj x: ')      \n",
    "        if x == 'q':\n",
    "            break\n",
    "        y = input('podaj y: ')\n",
    "        if y == 'q':\n",
    "            break   \n",
    "        wejscie = [int(x),int(y)] \n",
    "        \n",
    "        print(f'odpowiedz sieci: {odpowiedz(wejscie)}')"
   ]
  },
  {
   "cell_type": "code",
   "execution_count": 10,
   "metadata": {
    "scrolled": true
   },
   "outputs": [
    {
     "name": "stdout",
     "output_type": "stream",
     "text": [
      "podaj x: 0\n",
      "podaj y: 1\n",
      "odpowiedz sieci: 0.024603593391774273\n",
      "podaj x: q\n"
     ]
    }
   ],
   "source": [
    "manual_test()"
   ]
  },
  {
   "cell_type": "code",
   "execution_count": null,
   "metadata": {
    "collapsed": true
   },
   "outputs": [],
   "source": []
  }
 ],
 "metadata": {
  "kernelspec": {
   "display_name": "Python [default]",
   "language": "python",
   "name": "python3"
  },
  "language_info": {
   "codemirror_mode": {
    "name": "ipython",
    "version": 3
   },
   "file_extension": ".py",
   "mimetype": "text/x-python",
   "name": "python",
   "nbconvert_exporter": "python",
   "pygments_lexer": "ipython3",
   "version": "3.6.5"
  },
  "toc": {
   "base_numbering": 1,
   "nav_menu": {},
   "number_sections": true,
   "sideBar": true,
   "skip_h1_title": false,
   "title_cell": "Table of Contents",
   "title_sidebar": "Contents",
   "toc_cell": false,
   "toc_position": {},
   "toc_section_display": true,
   "toc_window_display": false
  }
 },
 "nbformat": 4,
 "nbformat_minor": 2
}
