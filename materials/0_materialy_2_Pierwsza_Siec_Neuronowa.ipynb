{
 "cells": [
  {
   "cell_type": "code",
   "execution_count": 3,
   "metadata": {},
   "outputs": [],
   "source": [
    "import math\n",
    "import numpy as np\n",
    "%matplotlib inline \n",
    "from matplotlib import pyplot as plt\n",
    "from ipywidgets import interact, interactive, fixed, interact_manual\n",
    "import ipywidgets as widgets\n",
    "from IPython.display import Image"
   ]
  },
  {
   "cell_type": "markdown",
   "metadata": {},
   "source": [
    "## Nasza pierwsza sieć neuronowa"
   ]
  },
  {
   "cell_type": "markdown",
   "metadata": {
    "collapsed": true
   },
   "source": [
    "### Kluczowe elementy sieci neuronowej\n",
    "\n",
    "- wielkosc sieci neuronowej\n",
    "    - input\n",
    "    - ilosc warstw\n",
    "    - ilosc neuronow w warstwach\n",
    "    - output\n",
    "- wagi\n",
    "- szybkosc uczenia sie\n",
    "- funkcja aktywacyjna"
   ]
  },
  {
   "cell_type": "markdown",
   "metadata": {},
   "source": [
    "### Wielkość sieci neuronowej\n",
    "- Warstwa wejściowa (input) = nasze dane\n",
    "    - ile cech w naszych danych (features) tyle neuronów \n",
    "- Warstwa wyjściowa (otput, odpowiedżsieci) \n",
    "    - zależy od tego ilu odpowiedzi się spodziewamy\n",
    "- Warstwa/warstwy ukryte\n",
    "    - metoda prób i błędów"
   ]
  },
  {
   "cell_type": "markdown",
   "metadata": {},
   "source": [
    "<img src=\"network.png\" />"
   ]
  },
  {
   "cell_type": "markdown",
   "metadata": {},
   "source": [
    "### Jak działa sztuczny neuron?"
   ]
  },
  {
   "cell_type": "markdown",
   "metadata": {},
   "source": [
    "<img src='jak_dziala_sztuczny_neuron.png' />"
   ]
  },
  {
   "cell_type": "markdown",
   "metadata": {
    "collapsed": true
   },
   "source": [
    "### Najpopularniejsze funkcje aktywacyjne\n",
    "\n",
    "sigmoid: f(x) = 1/e**(-x)\n",
    "<img src='sigmoid.png' />\n",
    "\n",
    "reLU:    f(x) = x*(x>0)\n",
    "<img src='relu.png' />\n"
   ]
  },
  {
   "cell_type": "code",
   "execution_count": 20,
   "metadata": {},
   "outputs": [],
   "source": [
    "def relu(x):\n",
    "    return x*(x>0)"
   ]
  },
  {
   "cell_type": "code",
   "execution_count": 21,
   "metadata": {},
   "outputs": [],
   "source": [
    "#relu(-2)"
   ]
  },
  {
   "cell_type": "code",
   "execution_count": 31,
   "metadata": {},
   "outputs": [
    {
     "name": "stdout",
     "output_type": "stream",
     "text": [
      "[-5 -4 -3 -2 -1  0  1  2  3  4  5]\n"
     ]
    },
    {
     "data": {
      "image/png": "[encoded data removed]",
      "text/plain": [
       "<Figure size 432x288 with 1 Axes>"
      ]
     },
     "metadata": {},
     "output_type": "display_data"
    }
   ],
   "source": [
    "#x = np.arange(-10, 11)\n",
    "x = np.array([-5, -4, -3, -2, -1, 0, 1, 2, 3, 4, 5])\n",
    "\n",
    "print(x)\n",
    "   \n",
    "plt.plot(x, relu(x))\n",
    "\n",
    "plt.xlim(-5, 5)\n",
    "plt.ylim(-1, 5)\n",
    "plt.grid(True)\n",
    "\n",
    "plt.show()"
   ]
  },
  {
   "cell_type": "code",
   "execution_count": 32,
   "metadata": {
    "scrolled": true
   },
   "outputs": [
    {
     "data": {
      "application/vnd.jupyter.widget-view+json": {
       "model_id": "e36eb7e95e594c2cbd7ad6683e6bfa44",
       "version_major": 2,
       "version_minor": 0
      },
      "text/plain": [
       "interactive(children=(IntSlider(value=0, description='x', max=10, min=-9), Output()), _dom_classes=('widget-in…"
      ]
     },
     "metadata": {},
     "output_type": "display_data"
    }
   ],
   "source": [
    "@interact(x=widgets.IntSlider(min=-9,max=10,step=1,value=0))\n",
    "def aktywacja(x):\n",
    "    print(f'reLU: {relu(x)}')"
   ]
  },
  {
   "cell_type": "markdown",
   "metadata": {},
   "source": [
    "<img src=\"network.png\" />"
   ]
  },
  {
   "cell_type": "code",
   "execution_count": 36,
   "metadata": {},
   "outputs": [],
   "source": [
    "# nasze dane wejściowe\n",
    "x = 1\n",
    "y = 0"
   ]
  },
  {
   "cell_type": "markdown",
   "metadata": {},
   "source": [
    "### Wagi dla naszej sieci"
   ]
  },
  {
   "cell_type": "code",
   "execution_count": 47,
   "metadata": {},
   "outputs": [],
   "source": [
    "# wstępne/losowe wagi dla naszej sieci\n",
    "waga_11 = 0.2\n",
    "waga_12 = -0.1\n",
    "waga_21 = 0.3\n",
    "waga_22 = 0.5\n",
    "waga_13 = -0.2\n",
    "waga_23 = 0.4"
   ]
  },
  {
   "cell_type": "markdown",
   "metadata": {},
   "source": [
    "### Definiujemy działanie neuronów w warstwie ukrytej"
   ]
  },
  {
   "cell_type": "code",
   "execution_count": 48,
   "metadata": {},
   "outputs": [],
   "source": [
    "#dodac math formula\n",
    "\n",
    "def neuron_H1(x, y):\n",
    "    inputs = (x * waga_11) + (y * waga_21)\n",
    "    output = relu(inputs)\n",
    "    return output  "
   ]
  },
  {
   "cell_type": "code",
   "execution_count": 49,
   "metadata": {},
   "outputs": [
    {
     "data": {
      "text/plain": [
       "0.2"
      ]
     },
     "execution_count": 49,
     "metadata": {},
     "output_type": "execute_result"
    }
   ],
   "source": [
    "neuron_H1(x, y)"
   ]
  },
  {
   "cell_type": "code",
   "execution_count": 50,
   "metadata": {},
   "outputs": [],
   "source": [
    "def neuron_H2(x, y):\n",
    "    inputs = (x * waga_21) + (y * waga_22)\n",
    "    output = relu(inputs)\n",
    "    return output "
   ]
  },
  {
   "cell_type": "markdown",
   "metadata": {},
   "source": [
    "### Odpowiedź sieci"
   ]
  },
  {
   "cell_type": "code",
   "execution_count": 51,
   "metadata": {},
   "outputs": [],
   "source": [
    "def odpowiedz(x, y):\n",
    "    neuron1 = neuron_H1(x, y)\n",
    "    neuron2 = neuron_H2(x, y)\n",
    "    \n",
    "\n",
    "    return neuron1*waga_h_13 + neuron2*waga_h_23"
   ]
  },
  {
   "cell_type": "code",
   "execution_count": 52,
   "metadata": {},
   "outputs": [
    {
     "data": {
      "text/plain": [
       "0.07999999999999999"
      ]
     },
     "execution_count": 52,
     "metadata": {},
     "output_type": "execute_result"
    }
   ],
   "source": [
    "odpowiedz(1, 0)"
   ]
  },
  {
   "cell_type": "markdown",
   "metadata": {},
   "source": [
    "### Przetestujmy naszą sieć"
   ]
  },
  {
   "cell_type": "code",
   "execution_count": 53,
   "metadata": {
    "scrolled": true
   },
   "outputs": [
    {
     "data": {
      "application/vnd.jupyter.widget-view+json": {
       "model_id": "b497df1662f146248464f728d807ed65",
       "version_major": 2,
       "version_minor": 0
      },
      "text/plain": [
       "interactive(children=(Dropdown(description='string', options=('0, 0', '0, 1', '1, 0', '1, 1'), value='0, 0'), …"
      ]
     },
     "metadata": {},
     "output_type": "display_data"
    }
   ],
   "source": [
    "dane = ['0, 0', '0, 1', '1, 0', '1, 1']\n",
    "\n",
    "@interact(string=dane)\n",
    "def odp(string):\n",
    "    \n",
    "    a, b = string.split(',')\n",
    "    x = int(a)\n",
    "    y = int(b)\n",
    "    return f'input: {string} odpowiedz sieci: {neuron_H1(x, y)*waga_h_13 + neuron_H2(x, y)*waga_h_23}'"
   ]
  },
  {
   "cell_type": "markdown",
   "metadata": {},
   "source": [
    "### Sieć bardzo się stara wypaść lepiej (losowa zmiana wag)"
   ]
  },
  {
   "cell_type": "code",
   "execution_count": 54,
   "metadata": {},
   "outputs": [],
   "source": [
    "def update_wag():\n",
    "    global waga_11\n",
    "    global waga_12 \n",
    "    global waga_21 \n",
    "    global waga_22 \n",
    "    global waga_13 \n",
    "    global waga_23 \n",
    "    waga_11 += np.random.rand() * np.random.choice([1, -1]) # monożymy razy 1 lunb -1 , zeby uzyskac numery po obu stronach zera\n",
    "    waga_12 += np.random.rand() * np.random.choice([1, -1])\n",
    "    waga_21 += np.random.rand() * np.random.choice([1, -1])\n",
    "    waga_22 += np.random.rand() * np.random.choice([1, -1])\n",
    "    waga_13 += np.random.rand() * np.random.choice([1, -1])\n",
    "    waga_23 += np.random.rand() * np.random.choice([1, -1])\n",
    "    "
   ]
  },
  {
   "cell_type": "code",
   "execution_count": 58,
   "metadata": {
    "scrolled": false
   },
   "outputs": [],
   "source": [
    "def nauka_bez_sensu(x, y, epoki):\n",
    "    for epoka in range(epoki):\n",
    "        print(f'odpowiedz nr.{epoka}: {odpowiedz(x, y)}')\n",
    "        update_wag()\n",
    "    return f'odpowiedz końcowa: {odpowiedz(x, y)}'"
   ]
  },
  {
   "cell_type": "code",
   "execution_count": 59,
   "metadata": {},
   "outputs": [
    {
     "name": "stdout",
     "output_type": "stream",
     "text": [
      "odpowiedz nr.0: 0.0\n",
      "odpowiedz nr.1: 0.0\n",
      "odpowiedz nr.2: -0.0791505318869373\n",
      "odpowiedz nr.3: -0.14336159224048228\n",
      "odpowiedz nr.4: -0.2195381342625284\n"
     ]
    },
    {
     "data": {
      "text/plain": [
       "'odpowiedz końcowa: -0.1802194605142368'"
      ]
     },
     "execution_count": 59,
     "metadata": {},
     "output_type": "execute_result"
    }
   ],
   "source": [
    "nauka_bez_sensu(0, 1, 5)"
   ]
  },
  {
   "cell_type": "code",
   "execution_count": null,
   "metadata": {},
   "outputs": [],
   "source": []
  }
 ],
 "metadata": {
  "kernelspec": {
   "display_name": "Python [default]",
   "language": "python",
   "name": "python3"
  },
  "language_info": {
   "codemirror_mode": {
    "name": "ipython",
    "version": 3
   },
   "file_extension": ".py",
   "mimetype": "text/x-python",
   "name": "python",
   "nbconvert_exporter": "python",
   "pygments_lexer": "ipython3",
   "version": "3.6.5"
  },
  "toc": {
   "base_numbering": 1,
   "nav_menu": {},
   "number_sections": true,
   "sideBar": true,
   "skip_h1_title": false,
   "title_cell": "Table of Contents",
   "title_sidebar": "Contents",
   "toc_cell": false,
   "toc_position": {},
   "toc_section_display": true,
   "toc_window_display": false
  }
 },
 "nbformat": 4,
 "nbformat_minor": 2
}
