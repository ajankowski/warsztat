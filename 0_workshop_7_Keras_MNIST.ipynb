{
 "cells": [
  {
   "cell_type": "markdown",
   "metadata": {
    "scrolled": false
   },
   "source": [
    "<img align=left src='keras.png' width = '400'/>"
   ]
  },
  {
   "cell_type": "markdown",
   "metadata": {},
   "source": [
    "**Keras** jest to wysokopoziomowe API, napisane w Pythonie które umożliwia nam programowanie biblotek TensorFlow (Google), CNTK (Microsoft), czy Theano (Montreal University). Dodatkowo kod Keras który napisaliśmy raz mozemy wykorzystać z każdą z tych bibliotek."
   ]
  },
  {
   "cell_type": "markdown",
   "metadata": {},
   "source": [
    "# Keras - sieć do rozpoznawania cyfr\n",
    "\n",
    "Baza MNIST zawiera cyfry napisanych ręcznie przez urzedników American Census Bureau i studentów.  \n",
    "\n",
    "60 tysięcy w zestawie treningowym  \n",
    "10 tysięcy w zestawie testowym \n",
    "\n",
    "Obrazki są przeskalowane do 28x28 pikseli i zapisane jaki plik cvs. Mała próbka poniżej.  "
   ]
  },
  {
   "cell_type": "markdown",
   "metadata": {},
   "source": [
    "<img align=left src='MnistExamples.png'/>"
   ]
  },
  {
   "cell_type": "markdown",
   "metadata": {},
   "source": [
    "## Sieć Neuronowa w Keras\n",
    "Importujemy niezbędne moduły"
   ]
  },
  {
   "cell_type": "code",
   "execution_count": 1,
   "metadata": {},
   "outputs": [
    {
     "name": "stderr",
     "output_type": "stream",
     "text": [
      "Using TensorFlow backend.\n"
     ]
    }
   ],
   "source": [
    "import numpy as np\n",
    "\n",
    "# import biblioteki do wizualizacji\n",
    "import matplotlib.pyplot as plt\n",
    "%matplotlib inline\n",
    "plt.rcParams['figure.figsize'] = (20,20) #powiekszamy wyświetlane obrazki\n",
    "\n",
    "from keras.datasets import mnist # importujemy bazę cyfr MNIST\n",
    "from keras.models import Sequential # importujemy model \n",
    "from keras.layers import Dense, Dropout, Activation\n",
    "\n",
    "from keras.utils import to_categorical \n",
    "from keras.preprocessing import image as kerasimg"
   ]
  },
  {
   "cell_type": "markdown",
   "metadata": {},
   "source": [
    "### Ładujemy dane - MNIST"
   ]
  },
  {
   "cell_type": "code",
   "execution_count": 2,
   "metadata": {},
   "outputs": [
    {
     "name": "stdout",
     "output_type": "stream",
     "text": [
      "X_train struktura danych (60000, 28, 28)\n",
      "y_train struktura danych (60000,)\n"
     ]
    }
   ],
   "source": [
    "classes = 10 # ilość klas do rozpoznania (iność rozpoznawanych cyfr)\n",
    "\n",
    "# ladujemy dane i przypoisujemy zmiennne do zestawu treningowego i testowego\n",
    "(X_train, y_train), (X_test, y_test) = mnist.load_data()\n",
    "print(\"X_train struktura danych\", X_train.shape)\n",
    "print(\"y_train struktura danych\", y_train.shape)"
   ]
  },
  {
   "cell_type": "code",
   "execution_count": 4,
   "metadata": {
    "collapsed": true
   },
   "outputs": [
    {
     "data": {
      "text/plain": [
       "array([[  0,   0,   0,   0,   0,   0,   0,   0,   0,   0,   0,   0,   0,\n",
       "          0,   0,   0,   0,   0,   0,   0,   0,   0,   0,   0,   0,   0,\n",
       "          0,   0],\n",
       "       [  0,   0,   0,   0,   0,   0,   0,   0,   0,   0,   0,   0,   0,\n",
       "          0,   0,   0,   0,   0,   0,   0,   0,   0,   0,   0,   0,   0,\n",
       "          0,   0],\n",
       "       [  0,   0,   0,   0,   0,   0,   0,   0,   0,   0,   0,   0,   0,\n",
       "          0,   0,   0,   0,   0,   0,   0,   0,   0,   0,   0,   0,   0,\n",
       "          0,   0],\n",
       "       [  0,   0,   0,   0,   0,   0,   0,   0,   0,   0,   0,   0,   0,\n",
       "          0,   0,   0,   0,   0,   0,   0,   0,   0,   0,   0,   0,   0,\n",
       "          0,   0],\n",
       "       [  0,   0,   0,   0,   0,   0,   0,   0,   0,   0,   0,   0,   0,\n",
       "          0,   0,   0,   0,   0,   0,   0,   0,   0,   0,   0,   0,   0,\n",
       "          0,   0],\n",
       "       [  0,   0,   0,   0,   0,   0,   0,   0,   0,   0,   0,  38,  43,\n",
       "        105, 255, 253, 253, 253, 253, 253, 174,   6,   0,   0,   0,   0,\n",
       "          0,   0],\n",
       "       [  0,   0,   0,   0,   0,   0,   0,   0,   0,  43, 139, 224, 226,\n",
       "        252, 253, 252, 252, 252, 252, 252, 252, 158,  14,   0,   0,   0,\n",
       "          0,   0],\n",
       "       [  0,   0,   0,   0,   0,   0,   0,   0,   0, 178, 252, 252, 252,\n",
       "        252, 253, 252, 252, 252, 252, 252, 252, 252,  59,   0,   0,   0,\n",
       "          0,   0],\n",
       "       [  0,   0,   0,   0,   0,   0,   0,   0,   0, 109, 252, 252, 230,\n",
       "        132, 133, 132, 132, 189, 252, 252, 252, 252,  59,   0,   0,   0,\n",
       "          0,   0],\n",
       "       [  0,   0,   0,   0,   0,   0,   0,   0,   0,   4,  29,  29,  24,\n",
       "          0,   0,   0,   0,  14, 226, 252, 252, 172,   7,   0,   0,   0,\n",
       "          0,   0],\n",
       "       [  0,   0,   0,   0,   0,   0,   0,   0,   0,   0,   0,   0,   0,\n",
       "          0,   0,   0,   0,  85, 243, 252, 252, 144,   0,   0,   0,   0,\n",
       "          0,   0],\n",
       "       [  0,   0,   0,   0,   0,   0,   0,   0,   0,   0,   0,   0,   0,\n",
       "          0,   0,   0,  88, 189, 252, 252, 252,  14,   0,   0,   0,   0,\n",
       "          0,   0],\n",
       "       [  0,   0,   0,   0,   0,   0,   0,   0,   0,   0,   0,   0,   0,\n",
       "          0,  91, 212, 247, 252, 252, 252, 204,   9,   0,   0,   0,   0,\n",
       "          0,   0],\n",
       "       [  0,   0,   0,   0,   0,   0,   0,   0,   0,  32, 125, 193, 193,\n",
       "        193, 253, 252, 252, 252, 238, 102,  28,   0,   0,   0,   0,   0,\n",
       "          0,   0],\n",
       "       [  0,   0,   0,   0,   0,   0,   0,   0,  45, 222, 252, 252, 252,\n",
       "        252, 253, 252, 252, 252, 177,   0,   0,   0,   0,   0,   0,   0,\n",
       "          0,   0],\n",
       "       [  0,   0,   0,   0,   0,   0,   0,   0,  45, 223, 253, 253, 253,\n",
       "        253, 255, 253, 253, 253, 253,  74,   0,   0,   0,   0,   0,   0,\n",
       "          0,   0],\n",
       "       [  0,   0,   0,   0,   0,   0,   0,   0,   0,  31, 123,  52,  44,\n",
       "         44,  44,  44, 143, 252, 252,  74,   0,   0,   0,   0,   0,   0,\n",
       "          0,   0],\n",
       "       [  0,   0,   0,   0,   0,   0,   0,   0,   0,   0,   0,   0,   0,\n",
       "          0,   0,   0,  15, 252, 252,  74,   0,   0,   0,   0,   0,   0,\n",
       "          0,   0],\n",
       "       [  0,   0,   0,   0,   0,   0,   0,   0,   0,   0,   0,   0,   0,\n",
       "          0,   0,   0,  86, 252, 252,  74,   0,   0,   0,   0,   0,   0,\n",
       "          0,   0],\n",
       "       [  0,   0,   0,   0,   0,   0,   5,  75,   9,   0,   0,   0,   0,\n",
       "          0,   0,  98, 242, 252, 252,  74,   0,   0,   0,   0,   0,   0,\n",
       "          0,   0],\n",
       "       [  0,   0,   0,   0,   0,  61, 183, 252,  29,   0,   0,   0,   0,\n",
       "         18,  92, 239, 252, 252, 243,  65,   0,   0,   0,   0,   0,   0,\n",
       "          0,   0],\n",
       "       [  0,   0,   0,   0,   0, 208, 252, 252, 147, 134, 134, 134, 134,\n",
       "        203, 253, 252, 252, 188,  83,   0,   0,   0,   0,   0,   0,   0,\n",
       "          0,   0],\n",
       "       [  0,   0,   0,   0,   0, 208, 252, 252, 252, 252, 252, 252, 252,\n",
       "        252, 253, 230, 153,   8,   0,   0,   0,   0,   0,   0,   0,   0,\n",
       "          0,   0],\n",
       "       [  0,   0,   0,   0,   0,  49, 157, 252, 252, 252, 252, 252, 217,\n",
       "        207, 146,  45,   0,   0,   0,   0,   0,   0,   0,   0,   0,   0,\n",
       "          0,   0],\n",
       "       [  0,   0,   0,   0,   0,   0,   7, 103, 235, 252, 172, 103,  24,\n",
       "          0,   0,   0,   0,   0,   0,   0,   0,   0,   0,   0,   0,   0,\n",
       "          0,   0],\n",
       "       [  0,   0,   0,   0,   0,   0,   0,   0,   0,   0,   0,   0,   0,\n",
       "          0,   0,   0,   0,   0,   0,   0,   0,   0,   0,   0,   0,   0,\n",
       "          0,   0],\n",
       "       [  0,   0,   0,   0,   0,   0,   0,   0,   0,   0,   0,   0,   0,\n",
       "          0,   0,   0,   0,   0,   0,   0,   0,   0,   0,   0,   0,   0,\n",
       "          0,   0],\n",
       "       [  0,   0,   0,   0,   0,   0,   0,   0,   0,   0,   0,   0,   0,\n",
       "          0,   0,   0,   0,   0,   0,   0,   0,   0,   0,   0,   0,   0,\n",
       "          0,   0]], dtype=uint8)"
      ]
     },
     "execution_count": 4,
     "metadata": {},
     "output_type": "execute_result"
    }
   ],
   "source": [
    "a = 7\n",
    "\n",
    "X_train[a]"
   ]
  },
  {
   "cell_type": "code",
   "execution_count": 5,
   "metadata": {},
   "outputs": [
    {
     "data": {
      "text/plain": [
       "3"
      ]
     },
     "execution_count": 5,
     "metadata": {},
     "output_type": "execute_result"
    }
   ],
   "source": [
    "y_train[a]"
   ]
  },
  {
   "cell_type": "code",
   "execution_count": 6,
   "metadata": {
    "scrolled": true
   },
   "outputs": [
    {
     "data": {
      "text/plain": [
       "Text(0.5,1,'Class 3')"
      ]
     },
     "execution_count": 6,
     "metadata": {},
     "output_type": "execute_result"
    },
    {
     "data": {
      "image/png": "[encoded data removed]",
      "text/plain": [
       "<Figure size 432x288 with 1 Axes>"
      ]
     },
     "metadata": {},
     "output_type": "display_data"
    }
   ],
   "source": [
    "plt.imshow(X_train[a], cmap='gray', interpolation='none')\n",
    "plt.title(\"Class {}\".format(y_train[a]))"
   ]
  },
  {
   "cell_type": "markdown",
   "metadata": {},
   "source": [
    "## Formatujemy dane treningowe\n",
    "\n",
    "Nasza sieć potrzrebuje danych wejsciowy w formie ciągu liczb (jednowymiarowego wektora) dla każdego przykładu .\n",
    "Musimy przekształcić obrazki (tablice) 28X28 w ciąg 784 liczb.\n",
    "Musimy również przeskalować dane wejściowe do zakresu **[0-1]** z zakresu [0-255]"
   ]
  },
  {
   "cell_type": "code",
   "execution_count": 7,
   "metadata": {},
   "outputs": [
    {
     "name": "stdout",
     "output_type": "stream",
     "text": [
      "Training matrix shape (60000, 784)\n",
      "Testing matrix shape (10000, 784)\n"
     ]
    }
   ],
   "source": [
    "X_train = X_train.reshape(60000, 784)   # zmieniamy kształt danych treningowych 28X28 do 784\n",
    "X_test = X_test.reshape(10000, 784)     # zmieniamy kształt danych testowych 28X28 do 784\n",
    "X_train = X_train.astype('float32')     # zmieniamy typ danych na zmiennoprzecinkowe\n",
    "X_test = X_test.astype('float32')       # zmieniamy typ danych na zmiennoprzecinkowe\n",
    "X_train /= 255                          # przeskalowujemy dane do zakresu [0-1]\n",
    "X_test /= 255                           # przeskalowujemy dane do zakresu [0-1]\n",
    "print(\"Training matrix shape\", X_train.shape)\n",
    "print(\"Testing matrix shape\", X_test.shape)"
   ]
  },
  {
   "cell_type": "markdown",
   "metadata": {},
   "source": [
    "### Zmieniamy odpowiedzi do: one-hot format\n",
    "\n",
    "```\n",
    "0 -> [1, 0, 0, 0, 0, 0, 0, 0, 0]\n",
    "1 -> [0, 1, 0, 0, 0, 0, 0, 0, 0]\n",
    "2 -> [0, 0, 1, 0, 0, 0, 0, 0, 0]\n",
    "etc.\n",
    "```"
   ]
  },
  {
   "cell_type": "code",
   "execution_count": 8,
   "metadata": {},
   "outputs": [
    {
     "data": {
      "text/plain": [
       "3"
      ]
     },
     "execution_count": 8,
     "metadata": {},
     "output_type": "execute_result"
    }
   ],
   "source": [
    "y_train[a]"
   ]
  },
  {
   "cell_type": "code",
   "execution_count": 9,
   "metadata": {},
   "outputs": [],
   "source": [
    "Y_train = to_categorical(y_train, classes)\n",
    "Y_test = to_categorical(y_test, classes)"
   ]
  },
  {
   "cell_type": "code",
   "execution_count": 10,
   "metadata": {},
   "outputs": [
    {
     "data": {
      "text/plain": [
       "array([ 0.,  0.,  0.,  1.,  0.,  0.,  0.,  0.,  0.,  0.])"
      ]
     },
     "execution_count": 10,
     "metadata": {},
     "output_type": "execute_result"
    }
   ],
   "source": [
    "Y_train[a]"
   ]
  },
  {
   "cell_type": "markdown",
   "metadata": {},
   "source": [
    "# Schemat naszej sieci\n",
    "3 input + 2 warstwy + odpowiedz sieci, fully connected\n",
    "<img src=\"tf_network.png\" />"
   ]
  },
  {
   "cell_type": "code",
   "execution_count": 11,
   "metadata": {},
   "outputs": [],
   "source": [
    "model = Sequential()\n",
    "model.add(Dense(100, input_shape=(784,)))\n",
    "model.add(Activation('relu')) # Funkcja aktywacyjna, w tym wypadku reLU\n",
    "                           \n",
    "model.add(Dropout(0.2))   # Dropout oznacza, ze w kolejnych epokach odrzycamy część neuronów z treningu\n",
    "\n",
    "model.add(Dense(50))\n",
    "model.add(Activation('relu'))\n",
    "\n",
    "model.add(Dropout(0.2))\n",
    "\n",
    "model.add(Dense(10))\n",
    "model.add(Activation('softmax')) # Dziękifunkcji  \"softmax\" odpowiedzi są w zakresie [0-1] i sumują się do 1\n",
    "                                   # czyli mogą być traktowane jako prawdopodobieństwo"
   ]
  },
  {
   "cell_type": "markdown",
   "metadata": {},
   "source": [
    "## Kompilujemy nasz model\n",
    "Nasz model zbudowany w Pythonie jest  optymalizowany i kompilowany do kodu maszynowego. \n",
    "\n",
    "Do skompilowania naszego modelu Keras potrzebuje również **loss function** i **optimizera**. \n",
    "Nasz **loss function** to *categorical crossentropy*, która dobrze nadaje sie do porównywania dwóch rozkładów prawdopodobieństwa.\n",
    "\n",
    "Odpowiedż naszej sieci to prawdopodobieństwo, ze dana cyfra to któraś z 10 cyfr (np. \"na 80% ten obrazek to cyfra '3', na 10% to '8', na 5% to '2', itd\"), a targetem jest dystrybucja w której prawidlłowa odpowiedż ma 100% prawdopodobieństwa, a wszystkie inne odpowiedzi 0%.Cross-entropy jest miarą różnicy pomiędzy naszą dystrybucją prawdopodobieństwa, a prawidłową  \n",
    "[Szczegóły na Wikipedii](https://en.wikipedia.org/wiki/Cross_entropy)\n",
    "\n",
    "Optimizer decyduje, jak szybko model się uczy i zapobiega jego zatrzymaniu.  \n",
    "\"adam\" (Adaptive Moment Estimation) jest dobrym wyborem."
   ]
  },
  {
   "cell_type": "code",
   "execution_count": 12,
   "metadata": {},
   "outputs": [],
   "source": [
    "model.compile(loss='categorical_crossentropy', optimizer='adam', metrics=['accuracy'])"
   ]
  },
  {
   "cell_type": "markdown",
   "metadata": {},
   "source": [
    "## Trenujemy naszą sieć!"
   ]
  },
  {
   "cell_type": "code",
   "execution_count": 13,
   "metadata": {},
   "outputs": [
    {
     "name": "stdout",
     "output_type": "stream",
     "text": [
      "Train on 60000 samples, validate on 10000 samples\n",
      "Epoch 1/20\n",
      "60000/60000 [==============================] - 3s 48us/step - loss: 0.4999 - acc: 0.8497 - val_loss: 0.1886 - val_acc: 0.9435\n",
      "Epoch 2/20\n",
      "60000/60000 [==============================] - 3s 43us/step - loss: 0.2311 - acc: 0.9319 - val_loss: 0.1334 - val_acc: 0.9612\n",
      "Epoch 3/20\n",
      "60000/60000 [==============================] - 3s 43us/step - loss: 0.1787 - acc: 0.9474 - val_loss: 0.1096 - val_acc: 0.9668\n",
      "Epoch 4/20\n",
      "60000/60000 [==============================] - 2s 40us/step - loss: 0.1487 - acc: 0.9558 - val_loss: 0.1044 - val_acc: 0.9684\n",
      "Epoch 5/20\n",
      "60000/60000 [==============================] - 3s 56us/step - loss: 0.1296 - acc: 0.9613 - val_loss: 0.0909 - val_acc: 0.9720\n",
      "Epoch 6/20\n",
      "60000/60000 [==============================] - 3s 46us/step - loss: 0.1163 - acc: 0.9654 - val_loss: 0.0862 - val_acc: 0.9729\n",
      "Epoch 7/20\n",
      "60000/60000 [==============================] - 3s 48us/step - loss: 0.1042 - acc: 0.9683 - val_loss: 0.0770 - val_acc: 0.9762\n",
      "Epoch 8/20\n",
      "60000/60000 [==============================] - 3s 43us/step - loss: 0.0976 - acc: 0.9701 - val_loss: 0.0741 - val_acc: 0.9771\n",
      "Epoch 9/20\n",
      "60000/60000 [==============================] - 3s 42us/step - loss: 0.0887 - acc: 0.9729 - val_loss: 0.0729 - val_acc: 0.9774\n",
      "Epoch 10/20\n",
      "60000/60000 [==============================] - 3s 44us/step - loss: 0.0813 - acc: 0.9749 - val_loss: 0.0767 - val_acc: 0.9773\n",
      "Epoch 11/20\n",
      "60000/60000 [==============================] - 2s 42us/step - loss: 0.0786 - acc: 0.9763 - val_loss: 0.0768 - val_acc: 0.9777\n",
      "Epoch 12/20\n",
      "60000/60000 [==============================] - 3s 44us/step - loss: 0.0727 - acc: 0.9775 - val_loss: 0.0727 - val_acc: 0.9781\n",
      "Epoch 13/20\n",
      "60000/60000 [==============================] - 3s 44us/step - loss: 0.0682 - acc: 0.9779 - val_loss: 0.0702 - val_acc: 0.9800\n",
      "Epoch 14/20\n",
      "60000/60000 [==============================] - 2s 37us/step - loss: 0.0680 - acc: 0.9785 - val_loss: 0.0683 - val_acc: 0.9796\n",
      "Epoch 15/20\n",
      "60000/60000 [==============================] - 2s 40us/step - loss: 0.0626 - acc: 0.9805 - val_loss: 0.0720 - val_acc: 0.9791\n",
      "Epoch 16/20\n",
      "60000/60000 [==============================] - 3s 43us/step - loss: 0.0613 - acc: 0.9802 - val_loss: 0.0742 - val_acc: 0.9790\n",
      "Epoch 17/20\n",
      "60000/60000 [==============================] - 3s 42us/step - loss: 0.0590 - acc: 0.9808 - val_loss: 0.0711 - val_acc: 0.9798\n",
      "Epoch 18/20\n",
      "60000/60000 [==============================] - 3s 49us/step - loss: 0.0576 - acc: 0.9816 - val_loss: 0.0724 - val_acc: 0.9796\n",
      "Epoch 19/20\n",
      "60000/60000 [==============================] - 3s 51us/step - loss: 0.0554 - acc: 0.9817 - val_loss: 0.0743 - val_acc: 0.9799\n",
      "Epoch 20/20\n",
      "60000/60000 [==============================] - 3s 45us/step - loss: 0.0532 - acc: 0.9828 - val_loss: 0.0708 - val_acc: 0.9800\n"
     ]
    },
    {
     "data": {
      "text/plain": [
       "<keras.callbacks.History at 0x24ca147bc88>"
      ]
     },
     "execution_count": 13,
     "metadata": {},
     "output_type": "execute_result"
    }
   ],
   "source": [
    "model.fit(X_train, Y_train,\n",
    "          batch_size=128, epochs=20,\n",
    "          verbose=1,\n",
    "          validation_data=(X_test, Y_test))"
   ]
  },
  {
   "cell_type": "markdown",
   "metadata": {},
   "source": [
    "## Sprawdzamy czy sieć się czegoś nauczyła\n",
    "\n",
    "Poniżej przykłady prawidłowych i nieprawidłowych odpowiedzi"
   ]
  },
  {
   "cell_type": "code",
   "execution_count": 14,
   "metadata": {},
   "outputs": [],
   "source": [
    "#dobrze jest zapisac model\n",
    "model.save('model_MNIST.h5')"
   ]
  },
  {
   "cell_type": "code",
   "execution_count": 15,
   "metadata": {},
   "outputs": [],
   "source": [
    "# funkcja predict_classeszwraca najbardziej prawdopodobna klase  \n",
    "# zgodnie z wytrenowanym modelem\n",
    "predicted_classes = model.predict_classes(X_test)\n",
    "\n",
    "# sprawdzamy które cyfre odczytalismy prawidlowo\n",
    "correct = np.nonzero(predicted_classes == y_test)[0]\n",
    "incorrect = np.nonzero(predicted_classes != y_test)[0]"
   ]
  },
  {
   "cell_type": "code",
   "execution_count": 16,
   "metadata": {},
   "outputs": [
    {
     "data": {
      "image/png": "[encoded data removed]",
      "text/plain": [
       "<Figure size 432x288 with 3 Axes>"
      ]
     },
     "metadata": {},
     "output_type": "display_data"
    }
   ],
   "source": [
    "plt.figure()\n",
    "for i, correct in enumerate(correct[:3]):\n",
    "    plt.subplot(1, 3, i+1)\n",
    "    plt.imshow(X_test[correct].reshape(28,28), cmap='gray', interpolation='none')\n",
    "    plt.title(\"Predicted {}, Class {}\".format(predicted_classes[correct], y_test[correct]))"
   ]
  },
  {
   "cell_type": "code",
   "execution_count": 17,
   "metadata": {},
   "outputs": [
    {
     "data": {
      "image/png": "[encoded data removed]",
      "text/plain": [
       "<Figure size 432x288 with 3 Axes>"
      ]
     },
     "metadata": {},
     "output_type": "display_data"
    }
   ],
   "source": [
    "plt.figure()\n",
    "for i, incorrect in enumerate(incorrect[:3]):\n",
    "    plt.subplot(1,3,i+1)\n",
    "    plt.imshow(X_test[incorrect].reshape(28,28), cmap='gray', interpolation='none')\n",
    "    plt.title(\"Predicted {}, Class {}\".format(predicted_classes[incorrect], y_test[incorrect]))"
   ]
  },
  {
   "cell_type": "code",
   "execution_count": 18,
   "metadata": {
    "scrolled": true
   },
   "outputs": [
    {
     "data": {
      "text/plain": [
       "<matplotlib.image.AxesImage at 0x24caf6742e8>"
      ]
     },
     "execution_count": 18,
     "metadata": {},
     "output_type": "execute_result"
    },
    {
     "data": {
      "image/png": "[encoded data removed]",
      "text/plain": [
       "<Figure size 432x288 with 1 Axes>"
      ]
     },
     "metadata": {},
     "output_type": "display_data"
    }
   ],
   "source": [
    "from keras.preprocessing import image\n",
    "\n",
    "def prepare_img(picture_path):\n",
    "    img = image.load_img(path=picture_path,grayscale=True,target_size=(28,28))\n",
    "    img = 255 - image.img_to_array(img) #  invert the colors\n",
    "    test_img = img.reshape((1, 784)) # reshape from 28x28 to list of 784 values\n",
    "    return test_img\n",
    "\n",
    "image_file ='C:/Users/ajankows/Desktop/python/obrazki_dane/1.png'\n",
    "\n",
    "obrazek = prepare_img(image_file)\n",
    "\n",
    "plt.imshow(obrazek.reshape(28,28), cmap='Greys', interpolation='None')"
   ]
  },
  {
   "cell_type": "code",
   "execution_count": 76,
   "metadata": {},
   "outputs": [
    {
     "data": {
      "text/plain": [
       "(1, 784)"
      ]
     },
     "execution_count": 76,
     "metadata": {},
     "output_type": "execute_result"
    }
   ],
   "source": [
    "obrazek.shape"
   ]
  },
  {
   "cell_type": "code",
   "execution_count": 21,
   "metadata": {},
   "outputs": [
    {
     "name": "stdout",
     "output_type": "stream",
     "text": [
      "odpowiedz sieci: [1]\n"
     ]
    }
   ],
   "source": [
    "odp_class = model.predict_classes(obrazek)\n",
    "odp_probability = model.predict(obrazek)\n",
    "\n",
    "print(f'odpowiedz sieci: {odp_class}')"
   ]
  },
  {
   "cell_type": "code",
   "execution_count": 22,
   "metadata": {},
   "outputs": [
    {
     "name": "stdout",
     "output_type": "stream",
     "text": [
      "C:/Users/ajankows/Desktop/python/obrazki_dane/0.png [0]\n",
      "C:/Users/ajankows/Desktop/python/obrazki_dane/1.png [1]\n",
      "C:/Users/ajankows/Desktop/python/obrazki_dane/2.png [2]\n",
      "C:/Users/ajankows/Desktop/python/obrazki_dane/3.png [3]\n",
      "C:/Users/ajankows/Desktop/python/obrazki_dane/4.png [4]\n",
      "C:/Users/ajankows/Desktop/python/obrazki_dane/5.png [5]\n",
      "C:/Users/ajankows/Desktop/python/obrazki_dane/6.png [4]\n",
      "C:/Users/ajankows/Desktop/python/obrazki_dane/7.png [3]\n",
      "C:/Users/ajankows/Desktop/python/obrazki_dane/8.png [8]\n",
      "C:/Users/ajankows/Desktop/python/obrazki_dane/9.png [9]\n"
     ]
    }
   ],
   "source": [
    "for i in range(10):\n",
    "    ob = \"C:/Users/ajankows/Desktop/python/obrazki_dane/\"+str(i)+\".png\"\n",
    "    obrazek = prepare_img(ob)\n",
    "    print(ob, model.predict_classes(obrazek))"
   ]
  },
  {
   "cell_type": "code",
   "execution_count": null,
   "metadata": {},
   "outputs": [],
   "source": []
  }
 ],
 "metadata": {
  "kernelspec": {
   "display_name": "Python [default]",
   "language": "python",
   "name": "python3"
  },
  "language_info": {
   "codemirror_mode": {
    "name": "ipython",
    "version": 3
   },
   "file_extension": ".py",
   "mimetype": "text/x-python",
   "name": "python",
   "nbconvert_exporter": "python",
   "pygments_lexer": "ipython3",
   "version": "3.6.5"
  },
  "toc": {
   "base_numbering": 1,
   "nav_menu": {},
   "number_sections": true,
   "sideBar": true,
   "skip_h1_title": false,
   "title_cell": "Table of Contents",
   "title_sidebar": "Contents",
   "toc_cell": false,
   "toc_position": {},
   "toc_section_display": true,
   "toc_window_display": true
  }
 },
 "nbformat": 4,
 "nbformat_minor": 2
}
