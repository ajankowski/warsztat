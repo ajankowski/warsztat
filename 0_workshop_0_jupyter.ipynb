{
 "cells": [
  {
   "cell_type": "markdown",
   "metadata": {
    "slideshow": {
     "slide_type": "slide"
    }
   },
   "source": [
    "# Jupyter Notebook\n",
    "Jupyter jest interaktywnym środowiskiem do programowania.  \n",
    "Wspiera on kilka języków programowania, ale powstał jako rozwinięcie interaktywnej konsoli języka Python."
   ]
  },
  {
   "cell_type": "markdown",
   "metadata": {
    "slideshow": {
     "slide_type": "subslide"
    }
   },
   "source": [
    "<img align=left src='jupyter_ui.png' />"
   ]
  },
  {
   "cell_type": "markdown",
   "metadata": {
    "slideshow": {
     "slide_type": "slide"
    }
   },
   "source": [
    "# Anatomia Notebooka\n",
    "Notebook składa sie z komórek zawierajacych kod lub tekst.  \n",
    "Jeśli kod zwraca jakieś zmienne pojawiają się one pod komórką z kodem."
   ]
  },
  {
   "cell_type": "markdown",
   "metadata": {
    "slideshow": {
     "slide_type": "subslide"
    }
   },
   "source": [
    "## Dwa mody (stany) komórki:  \n",
    "\n",
    "**edit mode** - mozemy edytowac zawartość komórki  \n",
    "**insert mode** - możemy edytować samą komórkę (zmienic typ zawartosci eg. kod lub markdown)  "
   ]
  },
  {
   "cell_type": "markdown",
   "metadata": {
    "slideshow": {
     "slide_type": "subslide"
    }
   },
   "source": [
    "# Przydatne komendy:\n",
    "\n",
    "wykonaj i przejdz do nastepnej komórki: **shift + return**  \n",
    "wykonaj i zostań w tej samej komórce: **alt + return**  \n",
    "dodaj komórke ponizej: **ESC, b**   \n",
    "dodaj komórkę powyżej **ESC, a**  \n",
    "kasowanie komórki **ESC, dd**"
   ]
  },
  {
   "cell_type": "code",
   "execution_count": 1,
   "metadata": {
    "slideshow": {
     "slide_type": "subslide"
    }
   },
   "outputs": [
    {
     "data": {
      "text/plain": [
       "4"
      ]
     },
     "execution_count": 1,
     "metadata": {},
     "output_type": "execute_result"
    }
   ],
   "source": [
    "2+2"
   ]
  },
  {
   "cell_type": "markdown",
   "metadata": {
    "slideshow": {
     "slide_type": "slide"
    }
   },
   "source": [
    "## Shell commands\n",
    "Jupyter działa nie tylko z komendami Pythona ale również komendami shella.  \n",
    "Komendy te różnią się w zależności od systemu (Windows, Linux, Mac OS X, etc.).  \n",
    "Przed komendą piszemy **!** np:"
   ]
  },
  {
   "cell_type": "code",
   "execution_count": 1,
   "metadata": {
    "collapsed": true,
    "slideshow": {
     "slide_type": "subslide"
    }
   },
   "outputs": [
    {
     "name": "stdout",
     "output_type": "stream",
     "text": [
      "{\n",
      " \"cells\": [\n",
      "  {\n",
      "   \"cell_type\": \"markdown\",\n",
      "   \"metadata\": {\n",
      "    \"slideshow\": {\n",
      "     \"slide_type\": \"slide\"\n",
      "    }\n",
      "   },\n",
      "   \"source\": [\n",
      "    \"<img src='prezentacja.png' />\\n\",\n",
      "    \" \\n\",\n",
      "    \"C:\\\\Users\\\\ajankows\\\\Desktop\\\\python\\\\002_notebooks\\\\workshop\\\\Sztuczna_Inteligencja_dla_poetĂłw.ppt\"\n",
      "   ]\n",
      "  },\n",
      "  {\n",
      "   \"cell_type\": \"markdown\",\n",
      "   \"metadata\": {\n",
      "    \"slideshow\": {\n",
      "     \"slide_type\": \"slide\"\n",
      "    }\n",
      "   },\n",
      "   \"source\": [\n",
      "    \"# Spis tresci\\n\",\n",
      "    \"1. ## [Podstawy programowania w Pythonie](http://localhost:8888/notebooks/002_notebooks/workshop/0_workshop_1_Python_w_10_minut.ipynb)   \\n\",\n",
      "    \"2. ## [Programujemy pierwszÄ… sieÄ‡ neuronowÄ…](http://localhost:8888/notebooks/002_notebooks/workshop/0_workshop_2_Pierwsza_Siec_Neuronowa.ipynb)  \\n\",\n",
      "    \"    3. [Nasza sieÄ‡ zaczyna siÄ™ uczyÄ‡](http://localhost:8888/notebooks/002_notebooks/workshop/0_workshop_3_sie%C4%87_si%C4%99_uczy.ipynb) \\n\",\n",
      "    \"4. ## [Funkcja XOR - pierwsza w pelni dziaĹ‚ajÄ…ca sieÄ‡](http://localhost:8888/notebooks/002_notebooks/workshop/0_workshop_4_xor.ipynb)  \\n\",\n",
      "    \"    4. [Macierze (tablice) i biblioteka Numpy](http://localhost:8888/notebooks/002_notebooks/workshop/0_workshop_3_numpy_short.ipynb)\\n\",\n",
      "    \"    4. [Inference, testujemy naszÄ… sieÄ‡](http://localhost:8888/notebooks/002_notebooks/workshop/0_workshop_4_xor_manual_test.ipynb)\\n\",\n",
      "    \"6. ## [Rozpoznawanie cyfr - zbiĂłr MNIST](http://localhost:8889/notebooks/002_notebooks/workshop/0_workshop_5_nn_mnist.ipynb)   \\n\",\n",
      "    \"7. ## [Keras - Python Deep Learning library](http://localhost:8888/notebooks/002_notebooks/workshop/0_workshop_6_Keras.ipynb)  \\n\",\n",
      "    \"    8. [EXTRA Keras CIFAR10 dataset](http://localhost:8888/notebooks/002_notebooks/workshop/0_workshop_7_Keras_CIFAR10.ipynb)\\n\",\n",
      "    \"\\n\",\n",
      "    \"\\n\"\n",
      "   ]\n",
      "  },\n",
      "  {\n",
      "   \"cell_type\": \"markdown\",\n",
      "   \"metadata\": {},\n",
      "   \"source\": [\n",
      "    \"### to do\\n\",\n",
      "    \"\\n\",\n",
      "    \"### dokumentacja wymagaĹ„ (biblioteki + instrukcje instalacji + docker??)\\n\",\n",
      "    \"\\n\",\n",
      "    \"### [docker](https://store.docker.com/search?offering=community&type=edition)\\n\",\n",
      "    \"[windows pro or enterprise](https://store.docker.com/editions/community/docker-ce-desktop-windows)\\n\",\n",
      "    \"\\n\",\n",
      "    \"[windows home - toolbox](https://docs.docker.com/toolbox/toolbox_install_windows/#what-you-get-and-how-it-works)\\n\",\n",
      "    \"\\n\",\n",
      "    \"[usunac siec ktora sie zaczyna uczyc]\\n\",\n",
      "    \"[dodac rysunek sieci do xor]\\n\",\n",
      "    \"\\n\",\n",
      "    \"[opis macierzy i biblioteki numpy](http://localhost:8888/notebooks/002_notebooks/workshop/0_workshop_3_numpy_short.ipynb#Macierze---tablice) \\n\",\n",
      "    \"[rysunek danych pokjedynczo i tabeli]\\n\",\n",
      "    \"[prdsumowanie poprzednich czesci]\\n\",\n",
      "    \"[opis zbioru mnist, programu dla us post,LeCun](http://localhost:8888/notebooks/002_notebooks/workshop/0_workshop_5_nn_mnist.ipynb#Rozpoznawanie-cyfr-i-zbi%C3%B3r-MNIST)   \\n\",\n",
      "    \"[dopisac notebook for keras MNIST (moze nawet cifar??)](http://localhost:8888/notebooks/002_notebooks/workshop/0_workshop_6_Keras.ipynb)  \\n\",\n",
      "    \"[Keras - dopisac test do wytrenowanej sieci](http://localhost:8888/notebooks/002_notebooks/workshop/0_workshop_6_Keras.ipynb#Sprawdzamy,-czy-nasza-sie%C4%87-dzia%C5%82a)  \"\n",
      "   ]\n",
      "  },\n",
      "  {\n",
      "   \"cell_type\": \"markdown\",\n",
      "   \"metadata\": {\n",
      "    \"slideshow\": {\n",
      "     \"slide_type\": \"slide\"\n",
      "    }\n",
      "   },\n",
      "   \"source\": [\n",
      "    \"https://www.tensorflow.org/install/  \\n\",\n",
      "    \"https://keras.io/#installation  \\n\",\n",
      "    \"https://www.anaconda.com/download/  \\n\",\n",
      "    \"https://github.com/stared/keras-sequential-ascii  \\n\",\n",
      "    \"https://ipywidgets.readthedocs.io/en/latest/user_install.html  \\n\",\n",
      "    \"\\n\",\n",
      "    \"    \"\n",
      "   ]\n",
      "  },\n",
      "  {\n",
      "   \"cell_type\": \"markdown\",\n",
      "   \"metadata\": {},\n",
      "   \"source\": [\n",
      "    \"### requirements\\n\",\n",
      "    \"numpy==1.14.1  \\n\",\n",
      "    \"keras==2.1.4  \\n\",\n",
      "    \"tensorflow==1.5.0  \\n\",\n",
      "    \"h5py==2.7.0  \\n\",\n",
      "    \"Pillow==5.0.0  \\n\",\n",
      "    \"matplotlib==2.2.2  \\n\",\n",
      "    \"nb_conda==2.2.0  \\n\",\n",
      "    \"imageio  \\n\",\n",
      "    \"nbextensions\\n\",\n",
      "    \"jupyter_nbextensions_configurator\\n\",\n",
      "    \"\\n\",\n",
      "    \"### to do\\n\",\n",
      "    \"jupyter nbextensions_configurator enable --user  \\n\",\n",
      "    \"jupyter contrib nbextension install --user  \"\n",
      "   ]\n",
      "  },\n",
      "  {\n",
      "   \"cell_type\": \"markdown\",\n",
      "   \"metadata\": {\n",
      "    \"collapsed\": true,\n",
      "    \"slideshow\": {\n",
      "     \"slide_type\": \"slide\"\n",
      "    }\n",
      "   },\n",
      "   \"source\": [\n",
      "    \"# Instrukcje dla uczestnikĂłw\\n\",\n",
      "    \"\\n\",\n",
      "    \"Download Docker engine (dziaĹ‚a z MacOS, Windows Pro/EE, Linux):\\n\",\n",
      "    \"https://store.docker.com/search?offering=community&type=edition\\n\",\n",
      "    \"\\n\",\n",
      "    \"JeĹ›li korzystasz z Windows Home lub starszych wersji musisz skorzystaÄ‡ z Docker Toolbox'a:\\n\",\n",
      "    \"https://docs.docker.com/toolbox/toolbox_install_windows\\n\",\n",
      "    \"\\n\",\n",
      "    \"Start CMD:\\n\",\n",
      "    \"docker pull ajankows/w_test\\n\",\n",
      "    \"\\n\",\n",
      "    \"CMD:\\n\",\n",
      "    \"docker run -d -p 8888:8888 jupyter/tensorflow-notebook start-notebook.sh --NotebookApp.token=''\\n\",\n",
      "    \"\\n\",\n",
      "    \"PrzeglÄ…darka:\\n\",\n",
      "    \"localhost:8888\\n\",\n",
      "    \"\\n\",\n",
      "    \"\\n\",\n",
      "    \"\\n\",\n",
      "    \"\\n\",\n",
      "    \"\\n\"\n",
      "   ]\n",
      "  },\n",
      "  {\n",
      "   \"cell_type\": \"markdown\",\n",
      "   \"metadata\": {},\n",
      "   \"source\": []\n",
      "  }\n",
      " ],\n",
      " \"metadata\": {\n",
      "  \"celltoolbar\": \"Slideshow\",\n",
      "  \"kernelspec\": {\n",
      "   \"display_name\": \"Python [default]\",\n",
      "   \"language\": \"python\",\n",
      "   \"name\": \"python3\"\n",
      "  },\n",
      "  \"language_info\": {\n",
      "   \"codemirror_mode\": {\n",
      "    \"name\": \"ipython\",\n",
      "    \"version\": 3\n",
      "   },\n",
      "   \"file_extension\": \".py\",\n",
      "   \"mimetype\": \"text/x-python\",\n",
      "   \"name\": \"python\",\n",
      "   \"nbconvert_exporter\": \"python\",\n",
      "   \"pygments_lexer\": \"ipython3\",\n",
      "   \"version\": \"3.6.5\"\n",
      "  },\n",
      "  \"toc\": {\n",
      "   \"base_numbering\": 1,\n",
      "   \"nav_menu\": {},\n",
      "   \"number_sections\": true,\n",
      "   \"sideBar\": true,\n",
      "   \"skip_h1_title\": false,\n",
      "   \"title_cell\": \"Table of Contents\",\n",
      "   \"title_sidebar\": \"Contents\",\n",
      "   \"toc_cell\": false,\n",
      "   \"toc_position\": {},\n",
      "   \"toc_section_display\": true,\n",
      "   \"toc_window_display\": false\n",
      "  }\n",
      " },\n",
      " \"nbformat\": 4,\n",
      " \"nbformat_minor\": 2\n",
      "}\n"
     ]
    }
   ],
   "source": [
    "!cat 00_Spis_Tresci_Workshop.ipynb\n"
   ]
  },
  {
   "cell_type": "raw",
   "metadata": {
    "slideshow": {
     "slide_type": "slide"
    }
   },
   "source": [
    "# Markdown  \n",
    "Dzięki językowi markdown możemy w prosty i szybki sposób formatować tekst, np:\n",
    "\n",
    "'# Tytuł'\n",
    "# Tytuł \n",
    "'## Rozdział 1'\n",
    "## Rozdział 1\n",
    "'### Paragraf'\n",
    "### Paragraf\n",
    "\n",
    "**2 gwiazdki pogrubiają tekst**, *jedna gwiazdka pochyla go*  \n",
    "- myślnik tworzy liste\n",
    "- lista\n",
    "- lista\n",
    "    - myślnik + tab tworzy podpunkt"
   ]
  },
  {
   "cell_type": "markdown",
   "metadata": {
    "slideshow": {
     "slide_type": "slide"
    }
   },
   "source": [
    "## Magiczne komendy\n",
    "Jupyter (a właściwie IPython) przychodzi z całą biblioteką magicznych komend.  \n",
    "Są to przydatne odwołania. Wszystkie zaczynają się od znaku **%**.  \n",
    "Magiczne komendy można wyświetlić magiczną komendą: **%lsmagic**"
   ]
  },
  {
   "cell_type": "code",
   "execution_count": 8,
   "metadata": {
    "slideshow": {
     "slide_type": "subslide"
    }
   },
   "outputs": [
    {
     "data": {
      "application/json": {
       "cell": {
        "!": "OSMagics",
        "HTML": "Other",
        "SVG": "Other",
        "bash": "Other",
        "capture": "ExecutionMagics",
        "cmd": "Other",
        "debug": "ExecutionMagics",
        "file": "Other",
        "html": "DisplayMagics",
        "javascript": "DisplayMagics",
        "js": "DisplayMagics",
        "latex": "DisplayMagics",
        "markdown": "DisplayMagics",
        "perl": "Other",
        "prun": "ExecutionMagics",
        "pypy": "Other",
        "python": "Other",
        "python2": "Other",
        "python3": "Other",
        "ruby": "Other",
        "script": "ScriptMagics",
        "sh": "Other",
        "svg": "DisplayMagics",
        "sx": "OSMagics",
        "system": "OSMagics",
        "time": "ExecutionMagics",
        "timeit": "ExecutionMagics",
        "writefile": "OSMagics"
       },
       "line": {
        "alias": "OSMagics",
        "alias_magic": "BasicMagics",
        "autocall": "AutoMagics",
        "automagic": "AutoMagics",
        "autosave": "KernelMagics",
        "bookmark": "OSMagics",
        "cd": "OSMagics",
        "clear": "KernelMagics",
        "cls": "KernelMagics",
        "colors": "BasicMagics",
        "config": "ConfigMagics",
        "connect_info": "KernelMagics",
        "copy": "Other",
        "ddir": "Other",
        "debug": "ExecutionMagics",
        "dhist": "OSMagics",
        "dirs": "OSMagics",
        "doctest_mode": "BasicMagics",
        "echo": "Other",
        "ed": "Other",
        "edit": "KernelMagics",
        "env": "OSMagics",
        "gui": "BasicMagics",
        "hist": "Other",
        "history": "HistoryMagics",
        "killbgscripts": "ScriptMagics",
        "ldir": "Other",
        "less": "KernelMagics",
        "load": "CodeMagics",
        "load_ext": "ExtensionMagics",
        "loadpy": "CodeMagics",
        "logoff": "LoggingMagics",
        "logon": "LoggingMagics",
        "logstart": "LoggingMagics",
        "logstate": "LoggingMagics",
        "logstop": "LoggingMagics",
        "ls": "Other",
        "lsmagic": "BasicMagics",
        "macro": "ExecutionMagics",
        "magic": "BasicMagics",
        "matplotlib": "PylabMagics",
        "mkdir": "Other",
        "more": "KernelMagics",
        "notebook": "BasicMagics",
        "page": "BasicMagics",
        "pastebin": "CodeMagics",
        "pdb": "ExecutionMagics",
        "pdef": "NamespaceMagics",
        "pdoc": "NamespaceMagics",
        "pfile": "NamespaceMagics",
        "pinfo": "NamespaceMagics",
        "pinfo2": "NamespaceMagics",
        "pip": "BasicMagics",
        "popd": "OSMagics",
        "pprint": "BasicMagics",
        "precision": "BasicMagics",
        "profile": "BasicMagics",
        "prun": "ExecutionMagics",
        "psearch": "NamespaceMagics",
        "psource": "NamespaceMagics",
        "pushd": "OSMagics",
        "pwd": "OSMagics",
        "pycat": "OSMagics",
        "pylab": "PylabMagics",
        "qtconsole": "KernelMagics",
        "quickref": "BasicMagics",
        "recall": "HistoryMagics",
        "rehashx": "OSMagics",
        "reload_ext": "ExtensionMagics",
        "ren": "Other",
        "rep": "Other",
        "rerun": "HistoryMagics",
        "reset": "NamespaceMagics",
        "reset_selective": "NamespaceMagics",
        "rmdir": "Other",
        "run": "ExecutionMagics",
        "save": "CodeMagics",
        "sc": "OSMagics",
        "set_env": "OSMagics",
        "store": "StoreMagics",
        "sx": "OSMagics",
        "system": "OSMagics",
        "tb": "ExecutionMagics",
        "time": "ExecutionMagics",
        "timeit": "ExecutionMagics",
        "unalias": "OSMagics",
        "unload_ext": "ExtensionMagics",
        "who": "NamespaceMagics",
        "who_ls": "NamespaceMagics",
        "whos": "NamespaceMagics",
        "xdel": "NamespaceMagics",
        "xmode": "BasicMagics"
       }
      },
      "text/plain": [
       "Available line magics:\n",
       "%alias  %alias_magic  %autocall  %automagic  %autosave  %bookmark  %cd  %clear  %cls  %colors  %config  %connect_info  %copy  %ddir  %debug  %dhist  %dirs  %doctest_mode  %echo  %ed  %edit  %env  %gui  %hist  %history  %killbgscripts  %ldir  %less  %load  %load_ext  %loadpy  %logoff  %logon  %logstart  %logstate  %logstop  %ls  %lsmagic  %macro  %magic  %matplotlib  %mkdir  %more  %notebook  %page  %pastebin  %pdb  %pdef  %pdoc  %pfile  %pinfo  %pinfo2  %popd  %pprint  %precision  %profile  %prun  %psearch  %psource  %pushd  %pwd  %pycat  %pylab  %qtconsole  %quickref  %recall  %rehashx  %reload_ext  %ren  %rep  %rerun  %reset  %reset_selective  %rmdir  %run  %save  %sc  %set_env  %store  %sx  %system  %tb  %time  %timeit  %unalias  %unload_ext  %who  %who_ls  %whos  %xdel  %xmode\n",
       "\n",
       "Available cell magics:\n",
       "%%!  %%HTML  %%SVG  %%bash  %%capture  %%cmd  %%debug  %%file  %%html  %%javascript  %%js  %%latex  %%markdown  %%perl  %%prun  %%pypy  %%python  %%python2  %%python3  %%ruby  %%script  %%sh  %%svg  %%sx  %%system  %%time  %%timeit  %%writefile\n",
       "\n",
       "Automagic is ON, % prefix IS NOT needed for line magics."
      ]
     },
     "execution_count": 8,
     "metadata": {},
     "output_type": "execute_result"
    }
   ],
   "source": [
    "%lsmagic"
   ]
  },
  {
   "cell_type": "code",
   "execution_count": null,
   "metadata": {
    "slideshow": {
     "slide_type": "subslide"
    }
   },
   "outputs": [],
   "source": [
    "%env\n"
   ]
  }
 ],
 "metadata": {
  "kernelspec": {
   "display_name": "Python [default]",
   "language": "python",
   "name": "python3"
  },
  "language_info": {
   "codemirror_mode": {
    "name": "ipython",
    "version": 3
   },
   "file_extension": ".py",
   "mimetype": "text/x-python",
   "name": "python",
   "nbconvert_exporter": "python",
   "pygments_lexer": "ipython3",
   "version": "3.6.5"
  },
  "toc": {
   "base_numbering": 1,
   "nav_menu": {},
   "number_sections": true,
   "sideBar": true,
   "skip_h1_title": false,
   "title_cell": "Table of Contents",
   "title_sidebar": "Contents",
   "toc_cell": false,
   "toc_position": {},
   "toc_section_display": true,
   "toc_window_display": true
  }
 },
 "nbformat": 4,
 "nbformat_minor": 2
}
